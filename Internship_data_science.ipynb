{
  "nbformat": 4,
  "nbformat_minor": 0,
  "metadata": {
    "colab": {
      "provenance": [],
      "authorship_tag": "ABX9TyOwShNaJmS6YgfIxHE+y+Xn",
      "include_colab_link": true
    },
    "kernelspec": {
      "name": "python3",
      "display_name": "Python 3"
    },
    "language_info": {
      "name": "python"
    }
  },
  "cells": [
    {
      "cell_type": "markdown",
      "metadata": {
        "id": "view-in-github",
        "colab_type": "text"
      },
      "source": [
        "<a href=\"https://colab.research.google.com/github/ShreyaBadgaiyan/EI/blob/main/Internship_data_science.ipynb\" target=\"_parent\"><img src=\"https://colab.research.google.com/assets/colab-badge.svg\" alt=\"Open In Colab\"/></a>"
      ]
    },
    {
      "cell_type": "markdown",
      "source": [
        "NUMPY\n"
      ],
      "metadata": {
        "id": "g1FHiEXxyBvE"
      }
    },
    {
      "cell_type": "code",
      "source": [
        "import numpy as np\n",
        "\n",
        "# In numpy we can onl work with array, array is a collection of homogenous type of data\n",
        "#one , two dimnsional array\n",
        "\n",
        "# a=[2,4,6,8,90]\n",
        "# type(a)\n",
        "#Typecasting list into numpy array\n",
        "\n",
        "a=np.array([2,3,5,6,45])\n",
        "type(a)\n",
        "\n",
        "a.dtype\n",
        "a.ndim\n",
        "a.max()\n",
        "a.min()\n",
        "a.itemsize\n",
        "a.size\n",
        "a.sum()\n"
      ],
      "metadata": {
        "colab": {
          "base_uri": "https://localhost:8080/"
        },
        "id": "wyzgC_HCyEnl",
        "outputId": "dcb2a32d-f562-41c3-ade1-117d1fa8ea5a"
      },
      "execution_count": null,
      "outputs": [
        {
          "output_type": "execute_result",
          "data": {
            "text/plain": [
              "61"
            ]
          },
          "metadata": {},
          "execution_count": 13
        }
      ]
    },
    {
      "cell_type": "code",
      "source": [
        "#1D ARRAY- Collection of homogenous elements\n",
        "#2D ARRAY- Collection of 1D arrays\n",
        "#3D ARRAY- Collection of 2D arrays\n",
        "#ND ARRAY- Collection of N-1D arrays\n",
        "\n",
        "#1D ARRAY\n",
        "#Different ways to create  1D array\n",
        "'''1)array()\n",
        "2)arange()\n",
        "3)linespace()\n",
        "4)logspace()\n",
        "5)ones()\n",
        "6)zeros()'''\n",
        "\n",
        "a1=np.array([23,45,24,67.8])\n",
        "a1\n",
        "#all values in float coz it needs to be homogenous\n",
        "\n",
        "a2=np.array([2,4,5,2,56.7],dtype='int')\n",
        "a2\n",
        "#all value become integer\n",
        "\n",
        "a3=np.array([23,45,24,67.8,\"abc\"])\n",
        "a3\n",
        "#all become string\n",
        "\n",
        "a4=np.arange(2,9,2)\n",
        "#start stop and step value needs be given\n",
        "a4\n",
        "type(a4)\n",
        "\n",
        "a4=np.arange(2,9,0.5)\n",
        "a4\n",
        "\n",
        "#LINESPACE FUNCTION : linespace(start,stop,no. of elements)--so we specify the start and stop values and the number of values we want between then.\n",
        "#It includes the last value,default no. of elements in between is 50\n",
        "a5=np.linspace(1,18,37)\n",
        "a5\n",
        "\n",
        "a6=np.logspace(1,5,50)\n",
        "a6\n",
        "#gives log values in between\n",
        "\n",
        "a7=np.zeros(67,dtype='int')\n",
        "a7\n",
        "#having only zeroes as values\n",
        "\n",
        "a8=np.ones(89)\n",
        "a8\n",
        "#having only ones as values\n",
        "\n",
        "a8[23]"
      ],
      "metadata": {
        "colab": {
          "base_uri": "https://localhost:8080/"
        },
        "id": "ACr4JLXgyzbE",
        "outputId": "16db8dc6-2f53-4676-d285-ffa702d31331"
      },
      "execution_count": null,
      "outputs": [
        {
          "output_type": "execute_result",
          "data": {
            "text/plain": [
              "1.0"
            ]
          },
          "metadata": {},
          "execution_count": 27
        }
      ]
    },
    {
      "cell_type": "code",
      "source": [
        "#2D array in numpy\n",
        "#Collection of 1D array\n",
        "\n",
        "a=np.array([\n",
        "[22,33,455,67],\n",
        "[2,3,5,6],\n",
        "[1,2,4,5]])\n",
        "\n",
        "a.ndim\n",
        "a[0]\n",
        "a[0][0]\n",
        "\n",
        "a[1][1:3]\n",
        "a[0][0:1]\n",
        "\n",
        "# Slicing: remain in same dimension\n",
        "# Indexing: decrease dimension by 1\n",
        "\n",
        "a[0:1,0:1]\n",
        "#in two dimesion slicing\n",
        "\n",
        "a[0:2,1:3]\n",
        "a[0:3:2,0:4:3]\n",
        "a[::2,::3]\n",
        "#getting all the corner elements\n",
        "\n",
        "\n",
        "# Reshape function gives number of rows and columns separated by commas\n",
        "\n",
        "a.shape\n",
        "\n",
        "#To convert any array to 1D array, use ravel notion\n",
        "\n",
        "a.ravel()\n",
        "a.size\n",
        "len(a)\n",
        "\n",
        "# size=row*column\n",
        "\n",
        "a.reshape(6,2)\n",
        "a.reshape(2,6)\n",
        "\n",
        "\n",
        "#Ways to create 2D arrays\n",
        "\n",
        "#ARANGE\n",
        "a2=np.arange(8).reshape(2,4)\n",
        "a2\n",
        "\n",
        "#LINSPACE\n",
        "a3=np.linspace(2,4,20,dtype='int').reshape(5,4)\n",
        "a3\n",
        "\n",
        "a4=np.zeros(30).reshape(5,6)\n",
        "a4\n",
        "\n",
        "a5=np.ones(30).reshape(5,6)\n",
        "a5"
      ],
      "metadata": {
        "colab": {
          "base_uri": "https://localhost:8080/"
        },
        "id": "a8nTV7F-EDPc",
        "outputId": "ac77ef3a-ff4f-46d4-ea3d-41b6ca851da5"
      },
      "execution_count": null,
      "outputs": [
        {
          "output_type": "execute_result",
          "data": {
            "text/plain": [
              "array([[1., 1., 1., 1., 1., 1.],\n",
              "       [1., 1., 1., 1., 1., 1.],\n",
              "       [1., 1., 1., 1., 1., 1.],\n",
              "       [1., 1., 1., 1., 1., 1.],\n",
              "       [1., 1., 1., 1., 1., 1.]])"
            ]
          },
          "metadata": {},
          "execution_count": 54
        }
      ]
    },
    {
      "cell_type": "code",
      "source": [
        "#THREE DIMENSIONAL ARRAY IN NUMPY\n",
        "#Collection of 2D array in numpy\n",
        "import numpy as np\n",
        "a=np.array([[[1,2,4],[8,6,9],[2,2,3]],[[5,7,56],[46,89,56],[90,87,56]]])\n",
        "a.ndim\n",
        "a[0]\n",
        "a[0][0]\n",
        "a[0][0][1]\n",
        "a\n",
        "a[0][0:1][1:2,1:3]\n",
        "\n",
        "a=np.arange(30).reshape(2,3,5)\n",
        "a\n",
        "#size=n*r*c\n",
        "\n",
        "a.reshape(10,3)\n",
        "a"
      ],
      "metadata": {
        "colab": {
          "base_uri": "https://localhost:8080/"
        },
        "id": "PDBCA0xkJ2zN",
        "outputId": "f9b05a2f-c663-4a60-bec9-bbd3778b54b0"
      },
      "execution_count": null,
      "outputs": [
        {
          "output_type": "execute_result",
          "data": {
            "text/plain": [
              "array([[[ 0,  1,  2,  3,  4],\n",
              "        [ 5,  6,  7,  8,  9],\n",
              "        [10, 11, 12, 13, 14]],\n",
              "\n",
              "       [[15, 16, 17, 18, 19],\n",
              "        [20, 21, 22, 23, 24],\n",
              "        [25, 26, 27, 28, 29]]])"
            ]
          },
          "metadata": {},
          "execution_count": 75
        }
      ]
    },
    {
      "cell_type": "code",
      "source": [
        "\n",
        "#RESHAPING -- Convert any nD array into any nD array is called Reshaping array in numpy.\n",
        "\n",
        "#totl no. of element is size==r*c==n*r*c==n1*n2*r*c\n",
        "\n",
        "a=np.arange(0,20,1)\n",
        "a\n",
        "a.ndim\n",
        "b=a.reshape(4,5)\n",
        "b\n",
        "c=a.reshape(2,2,5)\n",
        "c\n",
        "a=np.arange(0,24,1)\n",
        "d=a.reshape(2,2,2,3)\n",
        "d\n",
        "\n",
        "\n"
      ],
      "metadata": {
        "colab": {
          "base_uri": "https://localhost:8080/"
        },
        "id": "5WY0RNrdL1xn",
        "outputId": "ee031f44-42b1-4e75-bc12-ec8479cc05cf"
      },
      "execution_count": null,
      "outputs": [
        {
          "output_type": "execute_result",
          "data": {
            "text/plain": [
              "array([[[[ 0,  1,  2],\n",
              "         [ 3,  4,  5]],\n",
              "\n",
              "        [[ 6,  7,  8],\n",
              "         [ 9, 10, 11]]],\n",
              "\n",
              "\n",
              "       [[[12, 13, 14],\n",
              "         [15, 16, 17]],\n",
              "\n",
              "        [[18, 19, 20],\n",
              "         [21, 22, 23]]]])"
            ]
          },
          "metadata": {},
          "execution_count": 82
        }
      ]
    },
    {
      "cell_type": "markdown",
      "source": [],
      "metadata": {
        "id": "uzJyII8-Pu5C"
      }
    }
  ]
}