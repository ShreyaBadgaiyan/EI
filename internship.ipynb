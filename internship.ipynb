{
  "nbformat": 4,
  "nbformat_minor": 0,
  "metadata": {
    "colab": {
      "provenance": [],
      "authorship_tag": "ABX9TyOMqtebo2ZzqKCMktYnfaye",
      "include_colab_link": true
    },
    "kernelspec": {
      "name": "python3",
      "display_name": "Python 3"
    },
    "language_info": {
      "name": "python"
    }
  },
  "cells": [
    {
      "cell_type": "markdown",
      "metadata": {
        "id": "view-in-github",
        "colab_type": "text"
      },
      "source": [
        "<a href=\"https://colab.research.google.com/github/ShreyaBadgaiyan/EI/blob/main/internship.ipynb\" target=\"_parent\"><img src=\"https://colab.research.google.com/assets/colab-badge.svg\" alt=\"Open In Colab\"/></a>"
      ]
    },
    {
      "cell_type": "code",
      "execution_count": null,
      "metadata": {
        "colab": {
          "base_uri": "https://localhost:8080/"
        },
        "id": "OBKh1qLA7F-t",
        "outputId": "400cf2d1-8327-44d6-9cf8-0c6fc67adf12"
      },
      "outputs": [
        {
          "output_type": "stream",
          "name": "stdout",
          "text": [
            "Hello World!\n"
          ]
        }
      ],
      "source": [
        "print('Hello World!')"
      ]
    },
    {
      "cell_type": "markdown",
      "source": [],
      "metadata": {
        "id": "UsNFEu0gJ_qQ"
      }
    },
    {
      "cell_type": "markdown",
      "source": [],
      "metadata": {
        "id": "g9wH8SJHKCjZ"
      }
    },
    {
      "cell_type": "code",
      "source": [
        "print('Shreya')"
      ],
      "metadata": {
        "colab": {
          "base_uri": "https://localhost:8080/"
        },
        "id": "-5l-On5sOuQF",
        "outputId": "85f1b36a-66e3-4ffb-9a8f-87290a4e257f"
      },
      "execution_count": null,
      "outputs": [
        {
          "output_type": "stream",
          "name": "stdout",
          "text": [
            "Shreya\n"
          ]
        }
      ]
    },
    {
      "cell_type": "code",
      "source": [
        "a=2\n",
        "print(a)\n",
        "print(\"abc\")"
      ],
      "metadata": {
        "colab": {
          "base_uri": "https://localhost:8080/"
        },
        "id": "8LcYTBW9RTSU",
        "outputId": "e7222622-a418-4b07-9f81-bea4f616fdab"
      },
      "execution_count": null,
      "outputs": [
        {
          "output_type": "stream",
          "name": "stdout",
          "text": [
            "2\n",
            "abc\n"
          ]
        }
      ]
    },
    {
      "cell_type": "code",
      "source": [
        "b=8\n",
        "print(a,b)"
      ],
      "metadata": {
        "colab": {
          "base_uri": "https://localhost:8080/"
        },
        "id": "1szhkoiORZpz",
        "outputId": "e366c399-f455-4a95-a0a6-b3d2a152106a"
      },
      "execution_count": null,
      "outputs": [
        {
          "output_type": "stream",
          "name": "stdout",
          "text": [
            "2 8\n"
          ]
        }
      ]
    },
    {
      "cell_type": "code",
      "source": [
        "#end=\\n sep=' '"
      ],
      "metadata": {
        "id": "y9AKCaC2RkX7"
      },
      "execution_count": null,
      "outputs": []
    },
    {
      "cell_type": "code",
      "source": [
        "print(a,end='#')\n",
        "print(a,b,sep=\"$\",end=\"*\")\n",
        "print('abc')\n"
      ],
      "metadata": {
        "colab": {
          "base_uri": "https://localhost:8080/"
        },
        "id": "w5SeoaNeRySU",
        "outputId": "40931618-119d-4060-d162-b012585a5de6"
      },
      "execution_count": null,
      "outputs": [
        {
          "output_type": "stream",
          "name": "stdout",
          "text": [
            "2#2$8*abc\n"
          ]
        }
      ]
    },
    {
      "cell_type": "code",
      "source": [
        "# Exercise:\n",
        "\n",
        "a,b,c=2,3,4\n",
        "print(a,b,c,end='33')\n",
        "print(b,a,sep=\"56\")\n",
        "print(a,sep='%')\n",
        "\n",
        "#single-line comment\n",
        "'''This\n",
        "is\n",
        "multiline\n",
        "comment\n",
        "'''"
      ],
      "metadata": {
        "colab": {
          "base_uri": "https://localhost:8080/"
        },
        "id": "x0K4xKNlSyZr",
        "outputId": "cb8ad336-0196-4ef4-ef30-5c11336da38c"
      },
      "execution_count": null,
      "outputs": [
        {
          "output_type": "stream",
          "name": "stdout",
          "text": [
            "2 3 4333562\n",
            "2\n"
          ]
        }
      ]
    },
    {
      "cell_type": "code",
      "source": [
        "a=2.6\n",
        "print(type(a))\n",
        "#used for type checking of object.\n",
        "\n",
        "a,b,c=2,3,2\n",
        "print(id(a))\n",
        "print(id(b))\n",
        "print(id(c))\n",
        "#2 is shared by both a and c hence same id.\n",
        "\n"
      ],
      "metadata": {
        "colab": {
          "base_uri": "https://localhost:8080/"
        },
        "id": "kh5p8pdmaJ2a",
        "outputId": "7293b654-2387-427e-cf7c-2c705972e325"
      },
      "execution_count": null,
      "outputs": [
        {
          "output_type": "stream",
          "name": "stdout",
          "text": [
            "<class 'float'>\n",
            "140204502171920\n",
            "140204502171952\n",
            "140204502171920\n"
          ]
        }
      ]
    },
    {
      "cell_type": "code",
      "source": [],
      "metadata": {
        "id": "5P2MFAH3bdfb"
      },
      "execution_count": null,
      "outputs": []
    },
    {
      "cell_type": "code",
      "source": [
        "print(id(a))"
      ],
      "metadata": {
        "colab": {
          "base_uri": "https://localhost:8080/"
        },
        "id": "Wqc4uwEdbbJt",
        "outputId": "884b24e1-e238-4785-cfa9-6606d6f4f940"
      },
      "execution_count": null,
      "outputs": [
        {
          "output_type": "stream",
          "name": "stdout",
          "text": [
            "140204502171920\n"
          ]
        }
      ]
    },
    {
      "cell_type": "code",
      "source": [
        "print(id(b))\n",
        "\n",
        "#id number can change each time we run the code because new object is created each time."
      ],
      "metadata": {
        "colab": {
          "base_uri": "https://localhost:8080/"
        },
        "id": "EFFF-xAGbfQo",
        "outputId": "22289a16-e8cd-4f93-c3b9-d687c20a98f6"
      },
      "execution_count": null,
      "outputs": [
        {
          "output_type": "stream",
          "name": "stdout",
          "text": [
            "140204502171952\n"
          ]
        }
      ]
    },
    {
      "cell_type": "markdown",
      "source": [
        "#Data types in python\n",
        "#number,string,boolean,list,tuple,dictionary,set\n",
        "#number--int,float,complex(j used instead of i)\n",
        "a,b,c=9,9.9,9+6j\n",
        "print(a,b,c)\n",
        "print(id(a),id(b),id(c))\n",
        "print(type(a),type(b),type(c))\n",
        "print(c.real)\n",
        "print(c.imag)\n",
        "d=complex(real=9,imag=9)\n",
        "e=complex(8,7)\n",
        "print(d)\n",
        "print(e)\n",
        "\n"
      ],
      "metadata": {
        "id": "JiJR15oSbxqh"
      }
    },
    {
      "cell_type": "code",
      "source": [],
      "metadata": {
        "id": "EiwlTPanne7p"
      },
      "execution_count": null,
      "outputs": []
    },
    {
      "cell_type": "code",
      "source": [
        "#List:stores multiple values at a time which may or may not be of same type.\n",
        "#indexing is used for accessing\n",
        "#Extracting sub-list from list: Slicing\n",
        "#Slice operator symbol - :\n",
        "#listName[start:stop:step]\n",
        "\n",
        "\n",
        "a=[1,2,'Shreya']\n",
        "print(a[0:1])\n",
        "b=list((12,13))\n",
        "b[1]=10\n",
        "print(b)\n",
        "\n"
      ],
      "metadata": {
        "colab": {
          "base_uri": "https://localhost:8080/"
        },
        "id": "UwbDF72bnsCR",
        "outputId": "4b784a61-122c-4316-97a2-34158f219fca"
      },
      "execution_count": null,
      "outputs": [
        {
          "output_type": "stream",
          "name": "stdout",
          "text": [
            "[1]\n",
            "[12, 10]\n"
          ]
        }
      ]
    },
    {
      "cell_type": "code",
      "source": [
        "#List\n",
        "\n",
        "lst=[1,2,3,4,5]\n",
        "lst2=lst[-4:-2]\n",
        "lst3=lst[1:3]\n",
        "print(lst2)\n",
        "print(lst3)\n",
        "print(lst[0:5:4])\n",
        "print(lst[-1:-6:-1])\n",
        "print(lst[5:-6:-1])\n"
      ],
      "metadata": {
        "colab": {
          "base_uri": "https://localhost:8080/"
        },
        "id": "WBJYyUYpBV_V",
        "outputId": "fefec555-19ba-41f7-b626-be247bb7dc8a"
      },
      "execution_count": null,
      "outputs": [
        {
          "output_type": "stream",
          "name": "stdout",
          "text": [
            "[2, 3]\n",
            "[2, 3]\n",
            "[1, 5]\n",
            "[5, 4, 3, 2, 1]\n",
            "[5, 4, 3, 2, 1]\n"
          ]
        }
      ]
    },
    {
      "cell_type": "code",
      "source": [],
      "metadata": {
        "id": "AREQGi8RRR-Z"
      },
      "execution_count": null,
      "outputs": []
    },
    {
      "cell_type": "markdown",
      "source": [
        "List methods\n"
      ],
      "metadata": {
        "id": "YFhvL4vHaAsZ"
      }
    },
    {
      "cell_type": "code",
      "source": [
        "#append->add one element at last of list\n",
        "#insert->one element at desired location value goes to the index value and already present value shifts to right in all cases , -ve indexing also.\n",
        "#extend->more than one element at last pf list\n",
        "\n",
        "lst=[1,23,4,4,4.5,56]\n",
        "lst.append(23)\n",
        "print(lst)\n",
        "lst.insert(1,24)\n",
        "print(lst)\n",
        "lst.extend([\"shreya\",243])\n",
        "print(lst)\n",
        "lst.append([\"shreya\",243])\n",
        "print(lst)\n"
      ],
      "metadata": {
        "colab": {
          "base_uri": "https://localhost:8080/"
        },
        "id": "kjG3vD9PaAZ5",
        "outputId": "869573fd-cb96-406d-e7ba-e23772c66a25"
      },
      "execution_count": null,
      "outputs": [
        {
          "output_type": "stream",
          "name": "stdout",
          "text": [
            "[1, 23, 4, 4, 4.5, 56, 23]\n",
            "[1, 24, 23, 4, 4, 4.5, 56, 23]\n",
            "[1, 24, 23, 4, 4, 4.5, 56, 23, 'shreya', 243]\n",
            "[1, 24, 23, 4, 4, 4.5, 56, 23, 'shreya', 243, ['shreya', 243]]\n"
          ]
        }
      ]
    },
    {
      "cell_type": "code",
      "source": [
        "#Removing functions from list\n",
        "#pop()->single 1 element from end of list\n",
        "#remove()->remove one element by using the value from list\n",
        "#del()->remove one or more value from list{uses range}\n",
        "#clear()->clears whole list\n",
        "\n",
        "lst=[45,\"Shreya\",14,256,738,26]\n",
        "lst.pop()\n",
        "print(lst)\n",
        "lst.remove(256)\n",
        "print(lst)\n",
        "lst.pop(1)\n",
        "print(lst)\n",
        "del lst[0:1]\n",
        "print(lst)\n",
        "\n",
        "lst.clear()\n",
        "print(lst)"
      ],
      "metadata": {
        "colab": {
          "base_uri": "https://localhost:8080/"
        },
        "id": "ZhsHrJHqeV6k",
        "outputId": "e697517c-413f-4769-c384-18ae19a250c5"
      },
      "execution_count": null,
      "outputs": [
        {
          "output_type": "stream",
          "name": "stdout",
          "text": [
            "[45, 'Shreya', 14, 256, 738]\n",
            "[45, 'Shreya', 14, 738]\n",
            "[45, 14, 738]\n",
            "[14, 738]\n",
            "[]\n"
          ]
        }
      ]
    },
    {
      "cell_type": "code",
      "source": [
        "#index->accessng/getting index value of any element\n",
        "#count()->accessing occurence of any element in list\n",
        "#reverse()->reverse elements of list\n",
        "#sort()->ascending or descending\n",
        "#copy()->copy list\n",
        "\n",
        "a=[2,4,63,6,7,2,2,5,6,7,21,98,88,89,43,3,]\n",
        "print(a.index(4))\n",
        "print(a.count(2))\n",
        "a.reverse()\n",
        "# print(a.reverse())\n",
        "print(a)\n",
        "a.sort\n",
        "print(a)\n",
        "a.sort(reverse=True)\n",
        "print(a)\n",
        "b=a.copy()\n",
        "print(b)\n",
        "a.pop()\n",
        "print(a)\n",
        "print(b)"
      ],
      "metadata": {
        "colab": {
          "base_uri": "https://localhost:8080/"
        },
        "id": "g_StlY_WifQN",
        "outputId": "9a4e2c7d-d52d-4ceb-9f16-2f16c7a72a33"
      },
      "execution_count": null,
      "outputs": [
        {
          "output_type": "stream",
          "name": "stdout",
          "text": [
            "1\n",
            "3\n",
            "[3, 43, 89, 88, 98, 21, 7, 6, 5, 2, 2, 7, 6, 63, 4, 2]\n",
            "[3, 43, 89, 88, 98, 21, 7, 6, 5, 2, 2, 7, 6, 63, 4, 2]\n",
            "[98, 89, 88, 63, 43, 21, 7, 7, 6, 6, 5, 4, 3, 2, 2, 2]\n",
            "[98, 89, 88, 63, 43, 21, 7, 7, 6, 6, 5, 4, 3, 2, 2, 2]\n",
            "[98, 89, 88, 63, 43, 21, 7, 7, 6, 6, 5, 4, 3, 2, 2]\n",
            "[98, 89, 88, 63, 43, 21, 7, 7, 6, 6, 5, 4, 3, 2, 2, 2]\n"
          ]
        }
      ]
    },
    {
      "cell_type": "markdown",
      "source": [
        "TUPLE-collection of heterogenous type of data\n"
      ],
      "metadata": {
        "id": "5BcSVm4vr7L-"
      }
    },
    {
      "cell_type": "code",
      "source": [
        "#indexed,ordered,immutable(unchangeable),( ) this needed\n",
        "\n",
        "a=(2,3.4,'gullu',2+9j)\n",
        "print(type(a))\n",
        "print(a[1])\n",
        "print(a[2][4])\n",
        "print(a[2][0:2])\n",
        "# del a[0]\n",
        "#delection also cant be done, addition also\n",
        "#slicing of string, similarly of list can also be done\n",
        "print(a.index(2))\n",
        "print(a.count('gullu'))\n",
        "#only these methods are done in tuple"
      ],
      "metadata": {
        "colab": {
          "base_uri": "https://localhost:8080/"
        },
        "id": "eJ2iVK6PsGAI",
        "outputId": "e6933000-0fba-4a44-db08-5d39a1b74564"
      },
      "execution_count": null,
      "outputs": [
        {
          "output_type": "stream",
          "name": "stdout",
          "text": [
            "<class 'tuple'>\n",
            "3.4\n",
            "u\n",
            "gu\n",
            "0\n",
            "1\n"
          ]
        }
      ]
    },
    {
      "cell_type": "code",
      "source": [
        "#Operations on Tuple\n",
        "#concatenation happening in below 2 examples\n",
        "a=[1,2]\n",
        "b=[3,4]\n",
        "print(a+b)\n",
        "\n",
        "a=(1,2)\n",
        "b=(3,4)\n",
        "print(a+b)\n",
        "print((a+b)*6)\n",
        "\n",
        "a=tuple([1,2,3,4,47])\n",
        "#in pace of square any bracket can be used\n",
        "b=(1,)\n",
        "print(a)\n",
        "print(b,)\n",
        "print(type(b))\n",
        "#single value tuple acting as integer\n"
      ],
      "metadata": {
        "colab": {
          "base_uri": "https://localhost:8080/"
        },
        "id": "ISwE3hu9uzHV",
        "outputId": "261be3c9-884f-42fa-be74-01048a33cbf3"
      },
      "execution_count": null,
      "outputs": [
        {
          "output_type": "stream",
          "name": "stdout",
          "text": [
            "[1, 2, 3, 4]\n",
            "(1, 2, 3, 4)\n",
            "(1, 2, 3, 4, 1, 2, 3, 4, 1, 2, 3, 4, 1, 2, 3, 4, 1, 2, 3, 4, 1, 2, 3, 4)\n",
            "(1, 2, 3, 4, 47)\n",
            "(1,)\n",
            "<class 'tuple'>\n"
          ]
        }
      ]
    },
    {
      "cell_type": "markdown",
      "source": [
        "Dictionary in Python\n"
      ],
      "metadata": {
        "id": "8TnUJUYC3gDr"
      }
    },
    {
      "cell_type": "code",
      "source": [
        "#heterogenous data,mutable,ordered,key-value pair, keys are be unique{},not indexed\n",
        "#remove--clear(),del,popItem(),pop()\n",
        "Student={\n",
        "   \"name\" :'Shreya',\n",
        "    \"age\":20,\n",
        "    \"branch\":'CSE'\n",
        "}\n",
        "\n",
        "print(Student)\n",
        "print(type(Student))\n",
        "print(Student[\"name\"])\n",
        "print(Student.get(\"name\"))\n",
        "# print(Student[\"hi\"]) errorfull\n",
        "print(Student.get(\"hi\"))\n",
        "#above executes\n",
        "\n",
        "Student[\"country\"]=\"India\"\n",
        "print(Student)\n",
        "\n",
        "print(Student.keys())\n",
        "print(Student.values())\n",
        "print(Student.items())\n",
        "\n",
        "Student.pop(\"age\")\n",
        "print(Student)\n",
        "\n",
        "# del Student(\"branch\")\n",
        "Student.popitem()\n",
        "print(Student)\n",
        "\n",
        "del Student[\"name\"]\n",
        "print(Student)\n",
        "\n",
        "Student.clear\n",
        "print(Student)\n",
        "\n",
        "\n",
        "\n",
        "dict={\n",
        "    \"name\":\"Shreya\",\n",
        "    \"age\":14\n",
        "}\n",
        "\n",
        "dict2=dict.copy()\n",
        "print(dict2)\n",
        "\n",
        "dict2.update(\n",
        "    {\n",
        "        \"country\":\"India\"\n",
        "    }\n",
        ")\n",
        "dict2[\"age\"]=20\n",
        "print(dict2)\n",
        "\n"
      ],
      "metadata": {
        "colab": {
          "base_uri": "https://localhost:8080/"
        },
        "id": "p2ly3jCG3iUQ",
        "outputId": "dbe23895-e155-4f78-acab-da03b6886ef2"
      },
      "execution_count": null,
      "outputs": [
        {
          "output_type": "stream",
          "name": "stdout",
          "text": [
            "{'name': 'Shreya', 'age': 20, 'branch': 'CSE'}\n",
            "<class 'dict'>\n",
            "Shreya\n",
            "Shreya\n",
            "None\n",
            "{'name': 'Shreya', 'age': 20, 'branch': 'CSE', 'country': 'India'}\n",
            "dict_keys(['name', 'age', 'branch', 'country'])\n",
            "dict_values(['Shreya', 20, 'CSE', 'India'])\n",
            "dict_items([('name', 'Shreya'), ('age', 20), ('branch', 'CSE'), ('country', 'India')])\n",
            "{'name': 'Shreya', 'branch': 'CSE', 'country': 'India'}\n",
            "{'name': 'Shreya', 'branch': 'CSE'}\n",
            "{'branch': 'CSE'}\n",
            "{'branch': 'CSE'}\n",
            "{'name': 'Shreya', 'age': 14}\n",
            "{'name': 'Shreya', 'age': 20, 'country': 'India'}\n"
          ]
        }
      ]
    },
    {
      "cell_type": "code",
      "source": [
        "#Nested Dictionary : Dictionary inside dictionary\n",
        "class1={\n",
        "    \"emp1\":{\n",
        "        \"name\":\"gb\"\n",
        "    }\n",
        ",\n",
        "     \"emp2\":{\n",
        "        \"name\":\"gbhha\"\n",
        "    }\n",
        "\n",
        "}\n",
        "print(class1)\n",
        "print(class1.get(\"emp1\").get(\"name\"))\n",
        "\n",
        "# Dict = dict({1: 'Geeks', 2: 'For', 3: 'Geeks'})\n",
        "\n",
        "# print(Dict)\n"
      ],
      "metadata": {
        "colab": {
          "base_uri": "https://localhost:8080/"
        },
        "id": "xmaCQkAI-CiA",
        "outputId": "6c9bd964-698a-429d-c04c-468be964800a"
      },
      "execution_count": null,
      "outputs": [
        {
          "output_type": "stream",
          "name": "stdout",
          "text": [
            "{'emp1': {'name': 'gb'}, 'emp2': {'name': 'gbhha'}}\n",
            "gb\n",
            "{1: 'Geeks', 2: 'For', 3: 'Geeks'}\n"
          ]
        }
      ]
    },
    {
      "cell_type": "markdown",
      "source": [
        "Set"
      ],
      "metadata": {
        "id": "US-cJ73WLou-"
      }
    },
    {
      "cell_type": "code",
      "source": [
        "#Collection of immutable type of data,unique,mutable is set,unordered data\n",
        "set1={1,\"Shreya\",2,56,78}\n",
        "a=set((1,23,4,4))\n",
        "b=set((1,24,5,77))\n",
        "print(a)\n",
        "print(a.union(b))\n",
        "print(a.intersection(b))\n",
        "print(a.difference(b))\n",
        "print(a.pop())\n",
        "print(a.symmetric_difference(b))\n",
        "a.clear()\n",
        "print(a)\n",
        "\n",
        "c=b.copy()\n",
        "print(c)\n",
        "a.add(\"gb\")\n",
        "#adding single value\n",
        "\n",
        "a.update((\"Gullu\",445,67,77))\n",
        "#adding multiple values at a time\n",
        "print(a)\n",
        "print(a.difference_update(b))\n",
        "print(a)\n",
        "a.discard(77)\n",
        "#no error if not present\n",
        "print(a)\n",
        "a.remove(445)\n",
        "#error if not present\n",
        "print(a)\n",
        "a.pop()\n",
        "print(a)\n",
        "#difference is simple, difference_update updates the original vslue to difference value"
      ],
      "metadata": {
        "colab": {
          "base_uri": "https://localhost:8080/"
        },
        "id": "MQeGdM7XLqTg",
        "outputId": "f91c3a9c-6259-425e-d047-cb32aba38a69"
      },
      "execution_count": null,
      "outputs": [
        {
          "output_type": "stream",
          "name": "stdout",
          "text": [
            "{1, 4, 23}\n",
            "{1, 4, 5, 23, 24, 77}\n",
            "{1}\n",
            "{4, 23}\n",
            "1\n",
            "{1, 4, 5, 77, 23, 24}\n",
            "set()\n",
            "{24, 1, 77, 5}\n",
            "{67, 'Gullu', 'gb', 77, 445}\n",
            "None\n",
            "{67, 'Gullu', 'gb', 445}\n",
            "{67, 'Gullu', 'gb', 445}\n",
            "{67, 'Gullu', 'gb'}\n",
            "{'Gullu', 'gb'}\n"
          ]
        }
      ]
    },
    {
      "cell_type": "markdown",
      "source": [
        "Boolean"
      ],
      "metadata": {
        "id": "qJvUbvV2WhFn"
      }
    },
    {
      "cell_type": "code",
      "source": [
        "a=True\n",
        "b=False\n",
        "print(a and b)\n",
        "print(a or b)\n",
        "print(not a)\n",
        "print(a & b)\n",
        "print(a | b)\n",
        "#^ xor\n",
        "print(a^b)\n",
        "print(20 and 4)\n",
        "print(20 | 4)\n",
        "print(20 ^ 4)\n",
        "print(bin(5))\n",
        "#get binary values using bin\n",
        "#Calculations are done in binary"
      ],
      "metadata": {
        "colab": {
          "base_uri": "https://localhost:8080/"
        },
        "id": "QcJRppQdWjBQ",
        "outputId": "7bc8fc7d-11f0-448e-cc1b-d3c70013600d"
      },
      "execution_count": null,
      "outputs": [
        {
          "output_type": "stream",
          "name": "stdout",
          "text": [
            "False\n",
            "True\n",
            "False\n",
            "False\n",
            "True\n",
            "True\n",
            "4\n",
            "20\n",
            "16\n",
            "0b101\n"
          ]
        }
      ]
    },
    {
      "cell_type": "markdown",
      "source": [
        "User Input & Typecasting"
      ],
      "metadata": {
        "id": "Pvn7jGe9p2ZX"
      }
    },
    {
      "cell_type": "code",
      "source": [
        "#process of converting one datatype into another -- type casting\n",
        "\n",
        "a=input(\"Enter the number: \")\n",
        "print(a)\n",
        "print(type(a))\n",
        "b=float(input(\"Enter:\"))\n",
        "print(b)\n",
        "print(type(b))"
      ],
      "metadata": {
        "colab": {
          "base_uri": "https://localhost:8080/"
        },
        "id": "5foK6dvDp7FT",
        "outputId": "4e39a08c-eb52-40ec-a7ec-98c068f9ca3d"
      },
      "execution_count": null,
      "outputs": [
        {
          "output_type": "stream",
          "name": "stdout",
          "text": [
            "Enter the number: 45\n",
            "45\n",
            "<class 'str'>\n",
            "Enter:45\n",
            "45.0\n",
            "<class 'float'>\n"
          ]
        }
      ]
    },
    {
      "cell_type": "markdown",
      "source": [
        "Control Statements in Python\n",
        "\n"
      ],
      "metadata": {
        "id": "HkP88hM9tLlk"
      }
    },
    {
      "cell_type": "code",
      "source": [
        "#if,if-else,if-elif-else,nested-if\n",
        "\n",
        "if (2>1):\n",
        "  print(\"True\")\n",
        "else:\n",
        "  print(\"False\")\n",
        "\n",
        "if(3<2):\n",
        "  print(\"Nope\")\n",
        "\n",
        "marks=67\n",
        "\n",
        "if(marks>80):\n",
        "  print(\"A\")\n",
        "elif(marks>60):\n",
        "  print(\"B\")\n",
        "else:\n",
        "  print(\"C\")\n",
        "\n",
        "if(2>1):\n",
        "  if(3>2):\n",
        "    print(\"Yes\")\n",
        "  else:\n",
        "    print(\"No\")\n",
        "\n",
        "#We can work with conditional and logical operators too\n",
        "\n",
        "if(2>1 and 2>3):\n",
        "  print(\"Yes\")\n",
        "else:\n",
        "  print(\"No\")\n"
      ],
      "metadata": {
        "colab": {
          "base_uri": "https://localhost:8080/"
        },
        "id": "CVI9HikLtPUe",
        "outputId": "7bce4dc6-60b4-4d68-e0f2-aedc20983c6a"
      },
      "execution_count": null,
      "outputs": [
        {
          "output_type": "stream",
          "name": "stdout",
          "text": [
            "True\n",
            "B\n",
            "Yes\n"
          ]
        }
      ]
    },
    {
      "cell_type": "code",
      "source": [
        "#QUIZ GAME\n",
        "\n"
      ],
      "metadata": {
        "id": "A9YV-rQMy0uX"
      },
      "execution_count": null,
      "outputs": []
    },
    {
      "cell_type": "markdown",
      "source": [
        "Loops\n"
      ],
      "metadata": {
        "id": "8DKWQDWvKGPw"
      }
    },
    {
      "cell_type": "code",
      "source": [
        "#Loop--repetation of statement in any programming language\n",
        "#While loop:repetation until given condition is satisfied\n",
        "\n",
        "a=1\n",
        "while(a<7):\n",
        "  print(\"looping\")\n",
        "  a=a+1\n",
        "#a++ not working here\n",
        "\n",
        "i=1\n",
        "while(i<11):\n",
        "  print(i)\n",
        "  i=i+1\n",
        "\n",
        "#decrementation in while loop\n",
        "\n",
        "a=5\n",
        "while(a>=1):\n",
        "  print(a)\n",
        "  a=a-1\n",
        "\n",
        "#table of 2\n",
        "\n",
        "a=1\n",
        "while(a<11):\n",
        "  print(a*2)\n",
        "  a=a+1\n",
        "\n",
        "#table generator using python\n",
        "# x=int(input(\"Enter the number\"))\n",
        "# a=1\n",
        "# while(a<11):\n",
        "#   print(a*x)\n",
        "#   a=a+1\n",
        "\n",
        "#Nested while loop\n",
        "\n",
        "b=1\n",
        "while(b<=3):\n",
        "  a=1\n",
        "  while(a<5):\n",
        "    print(\"*\",end=\" \")\n",
        "    a=a+1\n",
        "  print(\"\\n\")\n",
        "  b=b+1\n",
        "\n",
        "\n",
        "b=1\n",
        "while(b<=5):\n",
        "  a=1\n",
        "  while(a<=b):\n",
        "    print(\"*\",end=\" \")\n",
        "    a=a+1\n",
        "  print(\"\\n\")\n",
        "  b=b+1\n",
        "\n",
        "\n"
      ],
      "metadata": {
        "colab": {
          "base_uri": "https://localhost:8080/"
        },
        "id": "ijBrPKMGKId3",
        "outputId": "a0242373-deba-4263-a2b0-921d74c62e7f"
      },
      "execution_count": null,
      "outputs": [
        {
          "output_type": "stream",
          "name": "stdout",
          "text": [
            "looping\n",
            "looping\n",
            "looping\n",
            "looping\n",
            "looping\n",
            "looping\n",
            "1\n",
            "2\n",
            "3\n",
            "4\n",
            "5\n",
            "6\n",
            "7\n",
            "8\n",
            "9\n",
            "10\n",
            "5\n",
            "4\n",
            "3\n",
            "2\n",
            "1\n",
            "2\n",
            "4\n",
            "6\n",
            "8\n",
            "10\n",
            "12\n",
            "14\n",
            "16\n",
            "18\n",
            "20\n",
            "* * * * \n",
            "\n",
            "* * * * \n",
            "\n",
            "* * * * \n",
            "\n",
            "* \n",
            "\n",
            "* * \n",
            "\n",
            "* * * \n",
            "\n",
            "* * * * \n",
            "\n",
            "* * * * * \n",
            "\n"
          ]
        }
      ]
    },
    {
      "cell_type": "code",
      "source": [
        "#for loop\n",
        "\n",
        "for i in range(1,5):\n",
        "  print(\"for here\")\n",
        "\n",
        "for i in [1,2,4,66,6,5]  :\n",
        "  print(i)\n",
        "\n",
        "for i in range(10,20,2):\n",
        "  print(i)"
      ],
      "metadata": {
        "colab": {
          "base_uri": "https://localhost:8080/"
        },
        "id": "Jdf5D8qL509D",
        "outputId": "ca215b5b-3a65-4811-ed22-b937dc468102"
      },
      "execution_count": null,
      "outputs": [
        {
          "output_type": "stream",
          "name": "stdout",
          "text": [
            "for here\n",
            "for here\n",
            "for here\n",
            "for here\n",
            "1\n",
            "2\n",
            "4\n",
            "66\n",
            "6\n",
            "5\n",
            "10\n",
            "12\n",
            "14\n",
            "16\n",
            "18\n"
          ]
        }
      ]
    },
    {
      "cell_type": "code",
      "source": [
        "#Table generator using for loop\n",
        "\n",
        "num=int(input(\"Enter the number\"))\n",
        "\n",
        "for i in range(1,11):\n",
        "  print(num*i)\n",
        "\n",
        "for i in range(1,4):\n",
        "  for j in range(1,5):\n",
        "    print(\"*\",end='')\n",
        "  print()\n",
        "\n",
        "for i in range(1,7):\n",
        "  for j in range(1,i+1):\n",
        "    print(\"*\",end='')\n",
        "  print()"
      ],
      "metadata": {
        "id": "ygxeiMhiJcOl",
        "colab": {
          "base_uri": "https://localhost:8080/"
        },
        "outputId": "e2b60c45-2c64-435f-cfed-31c7b2046e3c"
      },
      "execution_count": null,
      "outputs": [
        {
          "output_type": "stream",
          "name": "stdout",
          "text": [
            "Enter the number5\n",
            "5\n",
            "10\n",
            "15\n",
            "20\n",
            "25\n",
            "30\n",
            "35\n",
            "40\n",
            "45\n",
            "50\n",
            "****\n",
            "****\n",
            "****\n",
            "*\n",
            "**\n",
            "***\n",
            "****\n",
            "*****\n",
            "******\n"
          ]
        }
      ]
    },
    {
      "cell_type": "markdown",
      "source": [
        "File Handling\n"
      ],
      "metadata": {
        "id": "CVUjQVm_BwqE"
      }
    },
    {
      "cell_type": "code",
      "source": [
        "# open()->used for creating files.(use w mode)open(\"file.txt\",\"w\")\n",
        "# a=open(\"file.txt\",\"w\")\n",
        "# a.write(\"Hey there!\")\n",
        "# a.close()\n",
        "# a=open(\"file.txt\",\"r\")\n",
        "\n",
        "# print(a.read())\n",
        "# #close used to save the content\n",
        "\n",
        "# #adding more content\n",
        "\n",
        "# a=open(\"file.txt\",\"a\")\n",
        "# a.write(\"I am appended\")\n",
        "# a.close()\n",
        "\n",
        "b=open(\"hi.pdf\",\"w\")\n",
        "c=open(\"hii.mp4\",\"w\")\n",
        "\n",
        "#a does edits in same file while w does edits by creating new file\n",
        "\n",
        "#Rename file\n",
        "\n",
        "import os\n",
        "\n",
        "os.rename(\"hi.pdf\",\"hy.pdf\")\n",
        "os.remove(\"hii.mp4\")\n",
        "\n",
        "# os.mkdir(\"gb\")\n",
        "#create folder\n",
        "# os.rmdir(\"gb\")\n",
        "#remove folder\n",
        "\n",
        "# os.mkdir(\"gb\")\n",
        "import shutil\n",
        "#Copy pasting files\n",
        "\n",
        "shutil.copy('hy.pdf','/content/gb')\n",
        "\n",
        "#Searching files\n",
        "import os.path\n",
        "\n",
        "# os.path.isfile('/content/gb/hi.pdf')\n",
        "print(os.path.isdir('/content/gb'))\n",
        "\n",
        "#.exists works for both file and folder\n",
        "\n",
        "#Convering file to zip file\n",
        "import zipfile\n",
        "\n",
        "# x=zipfile.ZipFile(\"myZipFile.zip\",\"w\")\n",
        "# x.write(\"hy.pdf\")\n",
        "# x.close()\n",
        "\n",
        "#Extracting files\n",
        "\n",
        "a=zipfile.ZipFile(\"myZipFile.zip\")\n",
        "a.extractall()\n",
        "\n",
        "#Zipping of list and tuples can also be done\n"
      ],
      "metadata": {
        "colab": {
          "base_uri": "https://localhost:8080/"
        },
        "id": "itvMPJGOBzPL",
        "outputId": "43de556f-8bf4-4eff-f2df-c84f52c09828"
      },
      "execution_count": null,
      "outputs": [
        {
          "output_type": "stream",
          "name": "stdout",
          "text": [
            "True\n"
          ]
        }
      ]
    },
    {
      "cell_type": "markdown",
      "source": [
        "Functions:block of code to perform a particular task"
      ],
      "metadata": {
        "id": "sE90CF3LM2bA"
      }
    },
    {
      "cell_type": "code",
      "source": [
        "def me():\n",
        "  print(\"Shreya\")\n",
        "me()\n",
        "\n",
        "def none():\n",
        "  return 'Gullu'\n",
        "\n",
        "print(print(print(none())))\n",
        "\n"
      ],
      "metadata": {
        "colab": {
          "base_uri": "https://localhost:8080/"
        },
        "id": "2IYe8UavM5c1",
        "outputId": "5768189c-a648-4ca0-af4d-722b26ec7f5f"
      },
      "execution_count": null,
      "outputs": [
        {
          "output_type": "stream",
          "name": "stdout",
          "text": [
            "Shreya\n",
            "Gullu\n",
            "None\n",
            "None\n"
          ]
        }
      ]
    },
    {
      "cell_type": "code",
      "source": [
        "#Types: Inbuilt..Use_defined\n",
        "# User_defined:default(non-parameterised),parameterised,anonymous\n",
        "# def xyz()==>default\n",
        "# def xyz(a,b,c)==>para\n",
        "#anonymous\n",
        "\n",
        "def add(a,b):\n",
        "  #formal argument above\n",
        "  print(a+b)\n",
        "add(1,4)\n",
        "#actual argument above\n",
        "\n",
        "#anonymous fn--fn without name(nameless fn)\n",
        "#we use lambda expression for this\n",
        "\n",
        "t=lambda c,d:c+d\n",
        "print(t(5,6))\n",
        "\n",
        "s=lambda a,b,c:a*b*c\n",
        "print(s(6,7,8))\n",
        "\n",
        "#Scope of fn[global and local(preferred)]\n",
        "#global keyword to convert local to global\n",
        "# globals returns dictionary of global varialbles\n",
        "print(globals())"
      ],
      "metadata": {
        "colab": {
          "base_uri": "https://localhost:8080/"
        },
        "id": "HhAJwh4UcxZU",
        "outputId": "559d7dd0-a83c-4ef7-a659-9f915a475400"
      },
      "execution_count": null,
      "outputs": [
        {
          "output_type": "stream",
          "name": "stdout",
          "text": [
            "5\n",
            "11\n",
            "336\n",
            "{'__name__': '__main__', '__doc__': 'Automatically created module for IPython interactive environment', '__package__': None, '__loader__': None, '__spec__': None, '__builtin__': <module 'builtins' (built-in)>, '__builtins__': <module 'builtins' (built-in)>, '_ih': ['', 'for i in range(1,11):\\n  print(2*i)', 'num=int(input(\"Enter the number\"))\\n\\nfor i in range(1,11):\\n  print(num*i)', '#Table generator using for loop\\n\\nnum=int(input(\"Enter the number\"))\\n\\nfor i in range(1,11):\\n  print(num*i)\\n\\nfor i in range(1,4):\\n  for j in range(1,5):\\n    print(\"*\")  ', '#Table generator using for loop\\n\\nnum=int(input(\"Enter the number\"))\\n\\nfor i in range(1,11):\\n  print(num*i)\\n\\nfor i in range(1,4):\\n  for j in range(1,5):\\n    print(\"*\",end=\\'\\') \\n  print()   ', '#Table generator using for loop\\n\\nnum=int(input(\"Enter the number\"))\\n\\nfor i in range(1,11):\\n  print(num*i)\\n\\nfor i in range(1,4):\\n  for j in range(1,5):\\n    print(\"*\",end=\\'\\') \\n  print()   \\n\\nfor i in range(1,4):\\n  for j in range(1,i):\\n    print(\"*\",end=\\'\\') \\n  print()  ', '#Table generator using for loop\\n\\nnum=int(input(\"Enter the number\"))\\n\\nfor i in range(1,11):\\n  print(num*i)\\n\\nfor i in range(1,4):\\n  for j in range(1,5):\\n    print(\"*\",end=\\'\\') \\n  print()   \\n\\nfor i in range(1,7):\\n  for j in range(1,i):\\n    print(\"*\",end=\\'\\') \\n  print()  ', '#Table generator using for loop\\n\\nnum=int(input(\"Enter the number\"))\\n\\nfor i in range(1,11):\\n  print(num*i)\\n\\nfor i in range(1,4):\\n  for j in range(1,5):\\n    print(\"*\",end=\\'\\') \\n  print()   \\n\\nfor i in range(1,7):\\n  for j in range(1,i+1):\\n    print(\"*\",end=\\'\\') \\n  print()  ', '# open()->used for creating files.(use w mode)open(\"file.txt\",\"w\")\\nopen(\"file.txt\",\"w\")', '# open()->used for creating files.(use w mode)open(\"file.txt\",\"w\")\\nfile=open(\"file.txt\",\"w\")\\nfile.write(\"Hey there!\")', '# open()->used for creating files.(use w mode)open(\"file.txt\",\"w\")\\na=open(\"file.txt\",\"w\")\\na.write(\"Hey there!\")', '# open()->used for creating files.(use w mode)open(\"file.txt\",\"w\")\\na=open(\"file.txt\",\"w\")\\na.write(\"Hey there!\")\\na.close', '# open()->used for creating files.(use w mode)open(\"file.txt\",\"w\")\\na=open(\"file.txt\",\"w\")\\na.write(\"Hey there!\")\\na.close', '# open()->used for creating files.(use w mode)open(\"file.txt\",\"w\")\\na=open(\"file.txt\",\"w\")\\na.write(\"Hey there!\")\\na.close()\\n#close used to save the content', '# open()->used for creating files.(use w mode)open(\"file.txt\",\"w\")\\na=open(\"file.txt\",\"w\")\\n# a.write(\"Hey there!\")\\n# a.close()\\nprint(a.read())\\n#close used to save the content', '# open()->used for creating files.(use w mode)open(\"file.txt\",\"w\")\\n# a=open(\"file.txt\",\"w\")\\n# a.write(\"Hey there!\")\\n# a.close()\\na=open(\"file.txt\",\"r\")\\n\\nprint(a.read())\\n#close used to save the content', '# open()->used for creating files.(use w mode)open(\"file.txt\",\"w\")\\n# a=open(\"file.txt\",\"w\")\\n# a.write(\"Hey there!\")\\n# a.close()\\na=open(\"file.txt\",\"r\")\\n\\nprint(a.read())\\n#close used to save the content', '# open()->used for creating files.(use w mode)open(\"file.txt\",\"w\")\\n# a=open(\"file.txt\",\"w\")\\n# a.write(\"Hey there!\")\\n# a.close()\\na=open(\"file.txt\",\"r\")\\n\\nprint(a.read())\\n#close used to save the content', '# open()->used for creating files.(use w mode)open(\"file.txt\",\"w\")\\na=open(\"file.txt\",\"w\")\\na.write(\"Hey there!\")\\na.close()\\na=open(\"file.txt\",\"r\")\\n\\nprint(a.read())\\n#close used to save the content', '# open()->used for creating files.(use w mode)open(\"file.txt\",\"w\")\\na=open(\"file.txt\",\"w\")\\na.write(\"Hey there!\")\\na.close()\\na=open(\"file.txt\",\"r\")\\n\\nprint(a.read())\\n#close used to save the content\\n\\n#adding more content\\n\\na=open(\"file.txt\",\"a\")\\na.write(\"I am appended\")\\na.close()', '# open()->used for creating files.(use w mode)open(\"file.txt\",\"w\")\\n# a=open(\"file.txt\",\"w\")\\n# a.write(\"Hey there!\")\\n# a.close()\\n# a=open(\"file.txt\",\"r\")\\n\\n# print(a.read())\\n# #close used to save the content\\n\\n# #adding more content\\n\\n# a=open(\"file.txt\",\"a\")\\n# a.write(\"I am appended\")\\n# a.close()\\n\\nb=open(\"hi.pdf\",\"w\")', '# open()->used for creating files.(use w mode)open(\"file.txt\",\"w\")\\n# a=open(\"file.txt\",\"w\")\\n# a.write(\"Hey there!\")\\n# a.close()\\n# a=open(\"file.txt\",\"r\")\\n\\n# print(a.read())\\n# #close used to save the content\\n\\n# #adding more content\\n\\n# a=open(\"file.txt\",\"a\")\\n# a.write(\"I am appended\")\\n# a.close()\\n\\nb=open(\"hi.pdf\",\"w\")\\nc=open(\"hii.mp4\",\"w\")', '# open()->used for creating files.(use w mode)open(\"file.txt\",\"w\")\\n# a=open(\"file.txt\",\"w\")\\n# a.write(\"Hey there!\")\\n# a.close()\\n# a=open(\"file.txt\",\"r\")\\n\\n# print(a.read())\\n# #close used to save the content\\n\\n# #adding more content\\n\\n# a=open(\"file.txt\",\"a\")\\n# a.write(\"I am appended\")\\n# a.close()\\n\\nb=open(\"hi.pdf\",\"w\")\\nc=open(\"hii.mp4\",\"w\")\\n\\n#a does edits in same file while w does edits by creating new file\\n\\n#Rename file\\n\\nimport os\\n\\nos.rename(\"hi.pdf\",\"hy.pdf\")', '# open()->used for creating files.(use w mode)open(\"file.txt\",\"w\")\\n# a=open(\"file.txt\",\"w\")\\n# a.write(\"Hey there!\")\\n# a.close()\\n# a=open(\"file.txt\",\"r\")\\n\\n# print(a.read())\\n# #close used to save the content\\n\\n# #adding more content\\n\\n# a=open(\"file.txt\",\"a\")\\n# a.write(\"I am appended\")\\n# a.close()\\n\\nb=open(\"hi.pdf\",\"w\")\\nc=open(\"hii.mp4\",\"w\")\\n\\n#a does edits in same file while w does edits by creating new file\\n\\n#Rename file\\n\\nimport os\\n\\nos.rename(\"hi.pdf\",\"hy.pdf\")\\nos.remove(\"hii.mp4\")', '# open()->used for creating files.(use w mode)open(\"file.txt\",\"w\")\\n# a=open(\"file.txt\",\"w\")\\n# a.write(\"Hey there!\")\\n# a.close()\\n# a=open(\"file.txt\",\"r\")\\n\\n# print(a.read())\\n# #close used to save the content\\n\\n# #adding more content\\n\\n# a=open(\"file.txt\",\"a\")\\n# a.write(\"I am appended\")\\n# a.close()\\n\\nb=open(\"hi.pdf\",\"w\")\\nc=open(\"hii.mp4\",\"w\")\\n\\n#a does edits in same file while w does edits by creating new file\\n\\n#Rename file\\n\\nimport os\\n\\nos.rename(\"hi.pdf\",\"hy.pdf\")\\nos.remove(\"hii.mp4\")\\n\\nos.mkdir(\"gb\")', '# open()->used for creating files.(use w mode)open(\"file.txt\",\"w\")\\n# a=open(\"file.txt\",\"w\")\\n# a.write(\"Hey there!\")\\n# a.close()\\n# a=open(\"file.txt\",\"r\")\\n\\n# print(a.read())\\n# #close used to save the content\\n\\n# #adding more content\\n\\n# a=open(\"file.txt\",\"a\")\\n# a.write(\"I am appended\")\\n# a.close()\\n\\nb=open(\"hi.pdf\",\"w\")\\nc=open(\"hii.mp4\",\"w\")\\n\\n#a does edits in same file while w does edits by creating new file\\n\\n#Rename file\\n\\nimport os\\n\\nos.rename(\"hi.pdf\",\"hy.pdf\")\\nos.remove(\"hii.mp4\")\\n\\nos.mkdir(\"gb\")\\n#create folder\\nos.rmdir(\"gb\")\\n#remove folder', '# open()->used for creating files.(use w mode)open(\"file.txt\",\"w\")\\n# a=open(\"file.txt\",\"w\")\\n# a.write(\"Hey there!\")\\n# a.close()\\n# a=open(\"file.txt\",\"r\")\\n\\n# print(a.read())\\n# #close used to save the content\\n\\n# #adding more content\\n\\n# a=open(\"file.txt\",\"a\")\\n# a.write(\"I am appended\")\\n# a.close()\\n\\nb=open(\"hi.pdf\",\"w\")\\nc=open(\"hii.mp4\",\"w\")\\n\\n#a does edits in same file while w does edits by creating new file\\n\\n#Rename file\\n\\nimport os\\n\\nos.rename(\"hi.pdf\",\"hy.pdf\")\\nos.remove(\"hii.mp4\")\\n\\n# os.mkdir(\"gb\")\\n#create folder\\nos.rmdir(\"gb\")\\n#remove folder', '# open()->used for creating files.(use w mode)open(\"file.txt\",\"w\")\\n# a=open(\"file.txt\",\"w\")\\n# a.write(\"Hey there!\")\\n# a.close()\\n# a=open(\"file.txt\",\"r\")\\n\\n# print(a.read())\\n# #close used to save the content\\n\\n# #adding more content\\n\\n# a=open(\"file.txt\",\"a\")\\n# a.write(\"I am appended\")\\n# a.close()\\n\\nb=open(\"hi.pdf\",\"w\")\\nc=open(\"hii.mp4\",\"w\")\\n\\n#a does edits in same file while w does edits by creating new file\\n\\n#Rename file\\n\\nimport os\\n\\nos.rename(\"hi.pdf\",\"hy.pdf\")\\nos.remove(\"hii.mp4\")\\n\\n# os.mkdir(\"gb\")\\n#create folder\\n# os.rmdir(\"gb\")\\n#remove folder\\n\\nos.mkdir(\"gb\")\\nimport shutil\\n#Copy pasting files\\n\\nshutil.copy(\\'hi.pdf\\',\"gb\")', '# open()->used for creating files.(use w mode)open(\"file.txt\",\"w\")\\n# a=open(\"file.txt\",\"w\")\\n# a.write(\"Hey there!\")\\n# a.close()\\n# a=open(\"file.txt\",\"r\")\\n\\n# print(a.read())\\n# #close used to save the content\\n\\n# #adding more content\\n\\n# a=open(\"file.txt\",\"a\")\\n# a.write(\"I am appended\")\\n# a.close()\\n\\nb=open(\"hi.pdf\",\"w\")\\nc=open(\"hii.mp4\",\"w\")\\n\\n#a does edits in same file while w does edits by creating new file\\n\\n#Rename file\\n\\nimport os\\n\\nos.rename(\"hi.pdf\",\"hy.pdf\")\\nos.remove(\"hii.mp4\")\\n\\n# os.mkdir(\"gb\")\\n#create folder\\n# os.rmdir(\"gb\")\\n#remove folder\\n\\nos.mkdir(\"gb\")\\nimport shutil\\n#Copy pasting files\\n\\nshutil.copy(\\'hi.pdf\\',\\'/content/gb\\')', '# open()->used for creating files.(use w mode)open(\"file.txt\",\"w\")\\n# a=open(\"file.txt\",\"w\")\\n# a.write(\"Hey there!\")\\n# a.close()\\n# a=open(\"file.txt\",\"r\")\\n\\n# print(a.read())\\n# #close used to save the content\\n\\n# #adding more content\\n\\n# a=open(\"file.txt\",\"a\")\\n# a.write(\"I am appended\")\\n# a.close()\\n\\nb=open(\"hi.pdf\",\"w\")\\nc=open(\"hii.mp4\",\"w\")\\n\\n#a does edits in same file while w does edits by creating new file\\n\\n#Rename file\\n\\nimport os\\n\\nos.rename(\"hi.pdf\",\"hy.pdf\")\\nos.remove(\"hii.mp4\")\\n\\n# os.mkdir(\"gb\")\\n#create folder\\n# os.rmdir(\"gb\")\\n#remove folder\\n\\n# os.mkdir(\"gb\")\\nimport shutil\\n#Copy pasting files\\n\\nshutil.copy(\\'hi.pdf\\',\\'/content/gb\\')', '# open()->used for creating files.(use w mode)open(\"file.txt\",\"w\")\\n# a=open(\"file.txt\",\"w\")\\n# a.write(\"Hey there!\")\\n# a.close()\\n# a=open(\"file.txt\",\"r\")\\n\\n# print(a.read())\\n# #close used to save the content\\n\\n# #adding more content\\n\\n# a=open(\"file.txt\",\"a\")\\n# a.write(\"I am appended\")\\n# a.close()\\n\\nb=open(\"hi.pdf\",\"w\")\\nc=open(\"hii.mp4\",\"w\")\\n\\n#a does edits in same file while w does edits by creating new file\\n\\n#Rename file\\n\\nimport os\\n\\nos.rename(\"hi.pdf\",\"hy.pdf\")\\nos.remove(\"hii.mp4\")\\n\\n# os.mkdir(\"gb\")\\n#create folder\\n# os.rmdir(\"gb\")\\n#remove folder\\n\\n# os.mkdir(\"gb\")\\nimport shutil\\n#Copy pasting files\\n\\nshutil.copy(\\'hy.pdf\\',\\'/content/gb\\')', '# open()->used for creating files.(use w mode)open(\"file.txt\",\"w\")\\n# a=open(\"file.txt\",\"w\")\\n# a.write(\"Hey there!\")\\n# a.close()\\n# a=open(\"file.txt\",\"r\")\\n\\n# print(a.read())\\n# #close used to save the content\\n\\n# #adding more content\\n\\n# a=open(\"file.txt\",\"a\")\\n# a.write(\"I am appended\")\\n# a.close()\\n\\nb=open(\"hi.pdf\",\"w\")\\nc=open(\"hii.mp4\",\"w\")\\n\\n#a does edits in same file while w does edits by creating new file\\n\\n#Rename file\\n\\nimport os\\n\\nos.rename(\"hi.pdf\",\"hy.pdf\")\\nos.remove(\"hii.mp4\")\\n\\n# os.mkdir(\"gb\")\\n#create folder\\n# os.rmdir(\"gb\")\\n#remove folder\\n\\n# os.mkdir(\"gb\")\\nimport shutil\\n#Copy pasting files\\n\\nshutil.copy(\\'hy.pdf\\',\\'/content/gb\\')\\n\\n#Searching files\\nimport os.path\\n\\nos.path.isfile(\"hy.pdf\",\\'/content/gb\\')', '# open()->used for creating files.(use w mode)open(\"file.txt\",\"w\")\\n# a=open(\"file.txt\",\"w\")\\n# a.write(\"Hey there!\")\\n# a.close()\\n# a=open(\"file.txt\",\"r\")\\n\\n# print(a.read())\\n# #close used to save the content\\n\\n# #adding more content\\n\\n# a=open(\"file.txt\",\"a\")\\n# a.write(\"I am appended\")\\n# a.close()\\n\\nb=open(\"hi.pdf\",\"w\")\\nc=open(\"hii.mp4\",\"w\")\\n\\n#a does edits in same file while w does edits by creating new file\\n\\n#Rename file\\n\\nimport os\\n\\nos.rename(\"hi.pdf\",\"hy.pdf\")\\nos.remove(\"hii.mp4\")\\n\\n# os.mkdir(\"gb\")\\n#create folder\\n# os.rmdir(\"gb\")\\n#remove folder\\n\\n# os.mkdir(\"gb\")\\nimport shutil\\n#Copy pasting files\\n\\nshutil.copy(\\'hy.pdf\\',\\'/content/gb\\')\\n\\n#Searching files\\nimport os.path\\n\\nos.path.isfile(\\'/content/gb/hy.pdf\\')', '# open()->used for creating files.(use w mode)open(\"file.txt\",\"w\")\\n# a=open(\"file.txt\",\"w\")\\n# a.write(\"Hey there!\")\\n# a.close()\\n# a=open(\"file.txt\",\"r\")\\n\\n# print(a.read())\\n# #close used to save the content\\n\\n# #adding more content\\n\\n# a=open(\"file.txt\",\"a\")\\n# a.write(\"I am appended\")\\n# a.close()\\n\\nb=open(\"hi.pdf\",\"w\")\\nc=open(\"hii.mp4\",\"w\")\\n\\n#a does edits in same file while w does edits by creating new file\\n\\n#Rename file\\n\\nimport os\\n\\nos.rename(\"hi.pdf\",\"hy.pdf\")\\nos.remove(\"hii.mp4\")\\n\\n# os.mkdir(\"gb\")\\n#create folder\\n# os.rmdir(\"gb\")\\n#remove folder\\n\\n# os.mkdir(\"gb\")\\nimport shutil\\n#Copy pasting files\\n\\nshutil.copy(\\'hy.pdf\\',\\'/content/gb\\')\\n\\n#Searching files\\nimport os.path\\n\\nos.path.isfile(\\'/content/gb/hi.pdf\\')', '# open()->used for creating files.(use w mode)open(\"file.txt\",\"w\")\\n# a=open(\"file.txt\",\"w\")\\n# a.write(\"Hey there!\")\\n# a.close()\\n# a=open(\"file.txt\",\"r\")\\n\\n# print(a.read())\\n# #close used to save the content\\n\\n# #adding more content\\n\\n# a=open(\"file.txt\",\"a\")\\n# a.write(\"I am appended\")\\n# a.close()\\n\\nb=open(\"hi.pdf\",\"w\")\\nc=open(\"hii.mp4\",\"w\")\\n\\n#a does edits in same file while w does edits by creating new file\\n\\n#Rename file\\n\\nimport os\\n\\nos.rename(\"hi.pdf\",\"hy.pdf\")\\nos.remove(\"hii.mp4\")\\n\\n# os.mkdir(\"gb\")\\n#create folder\\n# os.rmdir(\"gb\")\\n#remove folder\\n\\n# os.mkdir(\"gb\")\\nimport shutil\\n#Copy pasting files\\n\\nshutil.copy(\\'hy.pdf\\',\\'/content/gb\\')\\n\\n#Searching files\\nimport os.path\\n\\nos.path.isfile(\\'/content/gb/hi.pdf\\')\\nos.path.isdir(\\'/content/gb\\')', '# open()->used for creating files.(use w mode)open(\"file.txt\",\"w\")\\n# a=open(\"file.txt\",\"w\")\\n# a.write(\"Hey there!\")\\n# a.close()\\n# a=open(\"file.txt\",\"r\")\\n\\n# print(a.read())\\n# #close used to save the content\\n\\n# #adding more content\\n\\n# a=open(\"file.txt\",\"a\")\\n# a.write(\"I am appended\")\\n# a.close()\\n\\nb=open(\"hi.pdf\",\"w\")\\nc=open(\"hii.mp4\",\"w\")\\n\\n#a does edits in same file while w does edits by creating new file\\n\\n#Rename file\\n\\nimport os\\n\\nos.rename(\"hi.pdf\",\"hy.pdf\")\\nos.remove(\"hii.mp4\")\\n\\n# os.mkdir(\"gb\")\\n#create folder\\n# os.rmdir(\"gb\")\\n#remove folder\\n\\n# os.mkdir(\"gb\")\\nimport shutil\\n#Copy pasting files\\n\\nshutil.copy(\\'hy.pdf\\',\\'/content/gb\\')\\n\\n#Searching files\\nimport os.path\\n\\nos.path.isfile(\\'/content/gb/hi.pdf\\')\\nprint(os.path.isdir(\\'/content/gb\\'))', '# open()->used for creating files.(use w mode)open(\"file.txt\",\"w\")\\n# a=open(\"file.txt\",\"w\")\\n# a.write(\"Hey there!\")\\n# a.close()\\n# a=open(\"file.txt\",\"r\")\\n\\n# print(a.read())\\n# #close used to save the content\\n\\n# #adding more content\\n\\n# a=open(\"file.txt\",\"a\")\\n# a.write(\"I am appended\")\\n# a.close()\\n\\nb=open(\"hi.pdf\",\"w\")\\nc=open(\"hii.mp4\",\"w\")\\n\\n#a does edits in same file while w does edits by creating new file\\n\\n#Rename file\\n\\nimport os\\n\\nos.rename(\"hi.pdf\",\"hy.pdf\")\\nos.remove(\"hii.mp4\")\\n\\n# os.mkdir(\"gb\")\\n#create folder\\n# os.rmdir(\"gb\")\\n#remove folder\\n\\n# os.mkdir(\"gb\")\\nimport shutil\\n#Copy pasting files\\n\\nshutil.copy(\\'hy.pdf\\',\\'/content/gb\\')\\n\\n#Searching files\\nimport os.path\\n\\n# os.path.isfile(\\'/content/gb/hi.pdf\\')\\nprint(os.path.isdir(\\'/content/gb\\'))', '# open()->used for creating files.(use w mode)open(\"file.txt\",\"w\")\\n# a=open(\"file.txt\",\"w\")\\n# a.write(\"Hey there!\")\\n# a.close()\\n# a=open(\"file.txt\",\"r\")\\n\\n# print(a.read())\\n# #close used to save the content\\n\\n# #adding more content\\n\\n# a=open(\"file.txt\",\"a\")\\n# a.write(\"I am appended\")\\n# a.close()\\n\\nb=open(\"hi.pdf\",\"w\")\\nc=open(\"hii.mp4\",\"w\")\\n\\n#a does edits in same file while w does edits by creating new file\\n\\n#Rename file\\n\\nimport os\\n\\nos.rename(\"hi.pdf\",\"hy.pdf\")\\nos.remove(\"hii.mp4\")\\n\\n# os.mkdir(\"gb\")\\n#create folder\\n# os.rmdir(\"gb\")\\n#remove folder\\n\\n# os.mkdir(\"gb\")\\nimport shutil\\n#Copy pasting files\\n\\nshutil.copy(\\'hy.pdf\\',\\'/content/gb\\')\\n\\n#Searching files\\nimport os.path\\n\\n# os.path.isfile(\\'/content/gb/hi.pdf\\')\\nprint(os.path.isdir(\\'/content/gn\\'))', '# open()->used for creating files.(use w mode)open(\"file.txt\",\"w\")\\n# a=open(\"file.txt\",\"w\")\\n# a.write(\"Hey there!\")\\n# a.close()\\n# a=open(\"file.txt\",\"r\")\\n\\n# print(a.read())\\n# #close used to save the content\\n\\n# #adding more content\\n\\n# a=open(\"file.txt\",\"a\")\\n# a.write(\"I am appended\")\\n# a.close()\\n\\nb=open(\"hi.pdf\",\"w\")\\nc=open(\"hii.mp4\",\"w\")\\n\\n#a does edits in same file while w does edits by creating new file\\n\\n#Rename file\\n\\nimport os\\n\\nos.rename(\"hi.pdf\",\"hy.pdf\")\\nos.remove(\"hii.mp4\")\\n\\n# os.mkdir(\"gb\")\\n#create folder\\n# os.rmdir(\"gb\")\\n#remove folder\\n\\n# os.mkdir(\"gb\")\\nimport shutil\\n#Copy pasting files\\n\\nshutil.copy(\\'hy.pdf\\',\\'/content/gb\\')\\n\\n#Searching files\\nimport os.path\\n\\n# os.path.isfile(\\'/content/gb/hi.pdf\\')\\nprint(os.path.isdir(\\'/content/gb\\'))\\n\\n#.exists works for both file and folder', '# open()->used for creating files.(use w mode)open(\"file.txt\",\"w\")\\n# a=open(\"file.txt\",\"w\")\\n# a.write(\"Hey there!\")\\n# a.close()\\n# a=open(\"file.txt\",\"r\")\\n\\n# print(a.read())\\n# #close used to save the content\\n\\n# #adding more content\\n\\n# a=open(\"file.txt\",\"a\")\\n# a.write(\"I am appended\")\\n# a.close()\\n\\nb=open(\"hi.pdf\",\"w\")\\nc=open(\"hii.mp4\",\"w\")\\n\\n#a does edits in same file while w does edits by creating new file\\n\\n#Rename file\\n\\nimport os\\n\\nos.rename(\"hi.pdf\",\"hy.pdf\")\\nos.remove(\"hii.mp4\")\\n\\n# os.mkdir(\"gb\")\\n#create folder\\n# os.rmdir(\"gb\")\\n#remove folder\\n\\n# os.mkdir(\"gb\")\\nimport shutil\\n#Copy pasting files\\n\\nshutil.copy(\\'hy.pdf\\',\\'/content/gb\\')\\n\\n#Searching files\\nimport os.path\\n\\n# os.path.isfile(\\'/content/gb/hi.pdf\\')\\nprint(os.path.isdir(\\'/content/gb\\'))\\n\\n#.exists works for both file and folder\\n\\n#Convering file to zip file\\nimport zipfile\\n\\nx=zipfile.ZipFile(\"myZipFile.zip\",\"w\")\\nx.write(\"hy.pdf\")\\nx.close()', '# open()->used for creating files.(use w mode)open(\"file.txt\",\"w\")\\n# a=open(\"file.txt\",\"w\")\\n# a.write(\"Hey there!\")\\n# a.close()\\n# a=open(\"file.txt\",\"r\")\\n\\n# print(a.read())\\n# #close used to save the content\\n\\n# #adding more content\\n\\n# a=open(\"file.txt\",\"a\")\\n# a.write(\"I am appended\")\\n# a.close()\\n\\nb=open(\"hi.pdf\",\"w\")\\nc=open(\"hii.mp4\",\"w\")\\n\\n#a does edits in same file while w does edits by creating new file\\n\\n#Rename file\\n\\nimport os\\n\\nos.rename(\"hi.pdf\",\"hy.pdf\")\\nos.remove(\"hii.mp4\")\\n\\n# os.mkdir(\"gb\")\\n#create folder\\n# os.rmdir(\"gb\")\\n#remove folder\\n\\n# os.mkdir(\"gb\")\\nimport shutil\\n#Copy pasting files\\n\\nshutil.copy(\\'hy.pdf\\',\\'/content/gb\\')\\n\\n#Searching files\\nimport os.path\\n\\n# os.path.isfile(\\'/content/gb/hi.pdf\\')\\nprint(os.path.isdir(\\'/content/gb\\'))\\n\\n#.exists works for both file and folder\\n\\n#Convering file to zip file\\nimport zipfile\\n\\nx=zipfile.ZipFile(\"myZipFile.zip\",\"w\")\\nx.write(\"hy.pdf\")\\nx.close()\\n\\n#Extracting files\\n\\na=zipfile.ZipFile(\"myZipFile.zip\")\\na.extractall()', '# open()->used for creating files.(use w mode)open(\"file.txt\",\"w\")\\n# a=open(\"file.txt\",\"w\")\\n# a.write(\"Hey there!\")\\n# a.close()\\n# a=open(\"file.txt\",\"r\")\\n\\n# print(a.read())\\n# #close used to save the content\\n\\n# #adding more content\\n\\n# a=open(\"file.txt\",\"a\")\\n# a.write(\"I am appended\")\\n# a.close()\\n\\nb=open(\"hi.pdf\",\"w\")\\nc=open(\"hii.mp4\",\"w\")\\n\\n#a does edits in same file while w does edits by creating new file\\n\\n#Rename file\\n\\nimport os\\n\\nos.rename(\"hi.pdf\",\"hy.pdf\")\\nos.remove(\"hii.mp4\")\\n\\n# os.mkdir(\"gb\")\\n#create folder\\n# os.rmdir(\"gb\")\\n#remove folder\\n\\n# os.mkdir(\"gb\")\\nimport shutil\\n#Copy pasting files\\n\\nshutil.copy(\\'hy.pdf\\',\\'/content/gb\\')\\n\\n#Searching files\\nimport os.path\\n\\n# os.path.isfile(\\'/content/gb/hi.pdf\\')\\nprint(os.path.isdir(\\'/content/gb\\'))\\n\\n#.exists works for both file and folder\\n\\n#Convering file to zip file\\nimport zipfile\\n\\n# x=zipfile.ZipFile(\"myZipFile.zip\",\"w\")\\n# x.write(\"hy.pdf\")\\n# x.close()\\n\\n#Extracting files\\n\\na=zipfile.ZipFile(\"myZipFile.zip\")\\na.extractall(\\'/content/gb\\')', '# open()->used for creating files.(use w mode)open(\"file.txt\",\"w\")\\n# a=open(\"file.txt\",\"w\")\\n# a.write(\"Hey there!\")\\n# a.close()\\n# a=open(\"file.txt\",\"r\")\\n\\n# print(a.read())\\n# #close used to save the content\\n\\n# #adding more content\\n\\n# a=open(\"file.txt\",\"a\")\\n# a.write(\"I am appended\")\\n# a.close()\\n\\nb=open(\"hi.pdf\",\"w\")\\nc=open(\"hii.mp4\",\"w\")\\n\\n#a does edits in same file while w does edits by creating new file\\n\\n#Rename file\\n\\nimport os\\n\\nos.rename(\"hi.pdf\",\"hy.pdf\")\\nos.remove(\"hii.mp4\")\\n\\n# os.mkdir(\"gb\")\\n#create folder\\n# os.rmdir(\"gb\")\\n#remove folder\\n\\n# os.mkdir(\"gb\")\\nimport shutil\\n#Copy pasting files\\n\\nshutil.copy(\\'hy.pdf\\',\\'/content/gb\\')\\n\\n#Searching files\\nimport os.path\\n\\n# os.path.isfile(\\'/content/gb/hi.pdf\\')\\nprint(os.path.isdir(\\'/content/gb\\'))\\n\\n#.exists works for both file and folder\\n\\n#Convering file to zip file\\nimport zipfile\\n\\n# x=zipfile.ZipFile(\"myZipFile.zip\",\"w\")\\n# x.write(\"hy.pdf\")\\n# x.close()\\n\\n#Extracting files\\n\\na=zipfile.ZipFile(\"myZipFile.zip\")\\na.extractall(\\'/content/gb\\')', '# open()->used for creating files.(use w mode)open(\"file.txt\",\"w\")\\n# a=open(\"file.txt\",\"w\")\\n# a.write(\"Hey there!\")\\n# a.close()\\n# a=open(\"file.txt\",\"r\")\\n\\n# print(a.read())\\n# #close used to save the content\\n\\n# #adding more content\\n\\n# a=open(\"file.txt\",\"a\")\\n# a.write(\"I am appended\")\\n# a.close()\\n\\nb=open(\"hi.pdf\",\"w\")\\nc=open(\"hii.mp4\",\"w\")\\n\\n#a does edits in same file while w does edits by creating new file\\n\\n#Rename file\\n\\nimport os\\n\\nos.rename(\"hi.pdf\",\"hy.pdf\")\\nos.remove(\"hii.mp4\")\\n\\n# os.mkdir(\"gb\")\\n#create folder\\n# os.rmdir(\"gb\")\\n#remove folder\\n\\n# os.mkdir(\"gb\")\\nimport shutil\\n#Copy pasting files\\n\\nshutil.copy(\\'hy.pdf\\',\\'/content/gb\\')\\n\\n#Searching files\\nimport os.path\\n\\n# os.path.isfile(\\'/content/gb/hi.pdf\\')\\nprint(os.path.isdir(\\'/content/gb\\'))\\n\\n#.exists works for both file and folder\\n\\n#Convering file to zip file\\nimport zipfile\\n\\n# x=zipfile.ZipFile(\"myZipFile.zip\",\"w\")\\n# x.write(\"hy.pdf\")\\n# x.close()\\n\\n#Extracting files\\n\\na=zipfile.ZipFile(\"myZipFile.zip\")\\na.extractall()', 'def me():\\n  print(\"Shreya\")\\nme()  ', 'def me():\\n  print(\"Shreya\")\\nme() \\n\\ndef none():\\n  return \\'Gullu\\'\\n  \\nprint(print(print(none())))', '#Types: Inbuilt..Use_defined\\n# User_defined:default(non-parameterised),parameterised,anonymous\\n# def xyz()==>default\\n# def xyz(a,b,c)==>para\\n#anonymous\\n\\ndef add(a,b):\\n  print(a+b)\\nadd(1,4)  ', '#Types: Inbuilt..Use_defined\\n# User_defined:default(non-parameterised),parameterised,anonymous\\n# def xyz()==>default\\n# def xyz(a,b,c)==>para\\n#anonymous\\n\\ndef add(a,b):\\n  #formal argument above\\n  print(a+b)\\nadd(1,4)  \\n#actual argument above\\n\\n#anonymous fn--fn without name(nameless fn)\\n#we use lambda expression for this\\n\\nt=lambda c,d:c+d\\nprint(t(5,6))', '#Types: Inbuilt..Use_defined\\n# User_defined:default(non-parameterised),parameterised,anonymous\\n# def xyz()==>default\\n# def xyz(a,b,c)==>para\\n#anonymous\\n\\ndef add(a,b):\\n  #formal argument above\\n  print(a+b)\\nadd(1,4)  \\n#actual argument above\\n\\n#anonymous fn--fn without name(nameless fn)\\n#we use lambda expression for this\\n\\nt=lambda c,d:c+d\\nprint(t(5,6))\\n\\ns=lambda a,b,c=a*b*c\\nprint(s(6,7,8))', '#Types: Inbuilt..Use_defined\\n# User_defined:default(non-parameterised),parameterised,anonymous\\n# def xyz()==>default\\n# def xyz(a,b,c)==>para\\n#anonymous\\n\\ndef add(a,b):\\n  #formal argument above\\n  print(a+b)\\nadd(1,4)  \\n#actual argument above\\n\\n#anonymous fn--fn without name(nameless fn)\\n#we use lambda expression for this\\n\\nt=lambda c,d:c+d\\nprint(t(5,6))\\n\\ns=lambda a,b,c:a*b*c\\nprint(s(6,7,8))', '#Types: Inbuilt..Use_defined\\n# User_defined:default(non-parameterised),parameterised,anonymous\\n# def xyz()==>default\\n# def xyz(a,b,c)==>para\\n#anonymous\\n\\ndef add(a,b):\\n  #formal argument above\\n  print(a+b)\\nadd(1,4)  \\n#actual argument above\\n\\n#anonymous fn--fn without name(nameless fn)\\n#we use lambda expression for this\\n\\nt=lambda c,d:c+d\\nprint(t(5,6))\\n\\ns=lambda a,b,c:a*b*c\\nprint(s(6,7,8))\\n\\n#Scope of fn[global and local(preferred)]\\n#global keyword to convert local to global\\n# globals returns dictionary of global varialbles\\nprint(globals())'], '_oh': {8: <_io.TextIOWrapper name='file.txt' mode='w' encoding='UTF-8'>, 9: 10, 10: 10, 11: <built-in method close of _io.TextIOWrapper object at 0x7e24e6aa1490>, 12: <built-in method close of _io.TextIOWrapper object at 0x7e24e6aa1220>, 30: '/content/gb/hy.pdf', 32: True, 33: False, 34: True}, '_dh': ['/content'], 'In': ['', 'for i in range(1,11):\\n  print(2*i)', 'num=int(input(\"Enter the number\"))\\n\\nfor i in range(1,11):\\n  print(num*i)', '#Table generator using for loop\\n\\nnum=int(input(\"Enter the number\"))\\n\\nfor i in range(1,11):\\n  print(num*i)\\n\\nfor i in range(1,4):\\n  for j in range(1,5):\\n    print(\"*\")  ', '#Table generator using for loop\\n\\nnum=int(input(\"Enter the number\"))\\n\\nfor i in range(1,11):\\n  print(num*i)\\n\\nfor i in range(1,4):\\n  for j in range(1,5):\\n    print(\"*\",end=\\'\\') \\n  print()   ', '#Table generator using for loop\\n\\nnum=int(input(\"Enter the number\"))\\n\\nfor i in range(1,11):\\n  print(num*i)\\n\\nfor i in range(1,4):\\n  for j in range(1,5):\\n    print(\"*\",end=\\'\\') \\n  print()   \\n\\nfor i in range(1,4):\\n  for j in range(1,i):\\n    print(\"*\",end=\\'\\') \\n  print()  ', '#Table generator using for loop\\n\\nnum=int(input(\"Enter the number\"))\\n\\nfor i in range(1,11):\\n  print(num*i)\\n\\nfor i in range(1,4):\\n  for j in range(1,5):\\n    print(\"*\",end=\\'\\') \\n  print()   \\n\\nfor i in range(1,7):\\n  for j in range(1,i):\\n    print(\"*\",end=\\'\\') \\n  print()  ', '#Table generator using for loop\\n\\nnum=int(input(\"Enter the number\"))\\n\\nfor i in range(1,11):\\n  print(num*i)\\n\\nfor i in range(1,4):\\n  for j in range(1,5):\\n    print(\"*\",end=\\'\\') \\n  print()   \\n\\nfor i in range(1,7):\\n  for j in range(1,i+1):\\n    print(\"*\",end=\\'\\') \\n  print()  ', '# open()->used for creating files.(use w mode)open(\"file.txt\",\"w\")\\nopen(\"file.txt\",\"w\")', '# open()->used for creating files.(use w mode)open(\"file.txt\",\"w\")\\nfile=open(\"file.txt\",\"w\")\\nfile.write(\"Hey there!\")', '# open()->used for creating files.(use w mode)open(\"file.txt\",\"w\")\\na=open(\"file.txt\",\"w\")\\na.write(\"Hey there!\")', '# open()->used for creating files.(use w mode)open(\"file.txt\",\"w\")\\na=open(\"file.txt\",\"w\")\\na.write(\"Hey there!\")\\na.close', '# open()->used for creating files.(use w mode)open(\"file.txt\",\"w\")\\na=open(\"file.txt\",\"w\")\\na.write(\"Hey there!\")\\na.close', '# open()->used for creating files.(use w mode)open(\"file.txt\",\"w\")\\na=open(\"file.txt\",\"w\")\\na.write(\"Hey there!\")\\na.close()\\n#close used to save the content', '# open()->used for creating files.(use w mode)open(\"file.txt\",\"w\")\\na=open(\"file.txt\",\"w\")\\n# a.write(\"Hey there!\")\\n# a.close()\\nprint(a.read())\\n#close used to save the content', '# open()->used for creating files.(use w mode)open(\"file.txt\",\"w\")\\n# a=open(\"file.txt\",\"w\")\\n# a.write(\"Hey there!\")\\n# a.close()\\na=open(\"file.txt\",\"r\")\\n\\nprint(a.read())\\n#close used to save the content', '# open()->used for creating files.(use w mode)open(\"file.txt\",\"w\")\\n# a=open(\"file.txt\",\"w\")\\n# a.write(\"Hey there!\")\\n# a.close()\\na=open(\"file.txt\",\"r\")\\n\\nprint(a.read())\\n#close used to save the content', '# open()->used for creating files.(use w mode)open(\"file.txt\",\"w\")\\n# a=open(\"file.txt\",\"w\")\\n# a.write(\"Hey there!\")\\n# a.close()\\na=open(\"file.txt\",\"r\")\\n\\nprint(a.read())\\n#close used to save the content', '# open()->used for creating files.(use w mode)open(\"file.txt\",\"w\")\\na=open(\"file.txt\",\"w\")\\na.write(\"Hey there!\")\\na.close()\\na=open(\"file.txt\",\"r\")\\n\\nprint(a.read())\\n#close used to save the content', '# open()->used for creating files.(use w mode)open(\"file.txt\",\"w\")\\na=open(\"file.txt\",\"w\")\\na.write(\"Hey there!\")\\na.close()\\na=open(\"file.txt\",\"r\")\\n\\nprint(a.read())\\n#close used to save the content\\n\\n#adding more content\\n\\na=open(\"file.txt\",\"a\")\\na.write(\"I am appended\")\\na.close()', '# open()->used for creating files.(use w mode)open(\"file.txt\",\"w\")\\n# a=open(\"file.txt\",\"w\")\\n# a.write(\"Hey there!\")\\n# a.close()\\n# a=open(\"file.txt\",\"r\")\\n\\n# print(a.read())\\n# #close used to save the content\\n\\n# #adding more content\\n\\n# a=open(\"file.txt\",\"a\")\\n# a.write(\"I am appended\")\\n# a.close()\\n\\nb=open(\"hi.pdf\",\"w\")', '# open()->used for creating files.(use w mode)open(\"file.txt\",\"w\")\\n# a=open(\"file.txt\",\"w\")\\n# a.write(\"Hey there!\")\\n# a.close()\\n# a=open(\"file.txt\",\"r\")\\n\\n# print(a.read())\\n# #close used to save the content\\n\\n# #adding more content\\n\\n# a=open(\"file.txt\",\"a\")\\n# a.write(\"I am appended\")\\n# a.close()\\n\\nb=open(\"hi.pdf\",\"w\")\\nc=open(\"hii.mp4\",\"w\")', '# open()->used for creating files.(use w mode)open(\"file.txt\",\"w\")\\n# a=open(\"file.txt\",\"w\")\\n# a.write(\"Hey there!\")\\n# a.close()\\n# a=open(\"file.txt\",\"r\")\\n\\n# print(a.read())\\n# #close used to save the content\\n\\n# #adding more content\\n\\n# a=open(\"file.txt\",\"a\")\\n# a.write(\"I am appended\")\\n# a.close()\\n\\nb=open(\"hi.pdf\",\"w\")\\nc=open(\"hii.mp4\",\"w\")\\n\\n#a does edits in same file while w does edits by creating new file\\n\\n#Rename file\\n\\nimport os\\n\\nos.rename(\"hi.pdf\",\"hy.pdf\")', '# open()->used for creating files.(use w mode)open(\"file.txt\",\"w\")\\n# a=open(\"file.txt\",\"w\")\\n# a.write(\"Hey there!\")\\n# a.close()\\n# a=open(\"file.txt\",\"r\")\\n\\n# print(a.read())\\n# #close used to save the content\\n\\n# #adding more content\\n\\n# a=open(\"file.txt\",\"a\")\\n# a.write(\"I am appended\")\\n# a.close()\\n\\nb=open(\"hi.pdf\",\"w\")\\nc=open(\"hii.mp4\",\"w\")\\n\\n#a does edits in same file while w does edits by creating new file\\n\\n#Rename file\\n\\nimport os\\n\\nos.rename(\"hi.pdf\",\"hy.pdf\")\\nos.remove(\"hii.mp4\")', '# open()->used for creating files.(use w mode)open(\"file.txt\",\"w\")\\n# a=open(\"file.txt\",\"w\")\\n# a.write(\"Hey there!\")\\n# a.close()\\n# a=open(\"file.txt\",\"r\")\\n\\n# print(a.read())\\n# #close used to save the content\\n\\n# #adding more content\\n\\n# a=open(\"file.txt\",\"a\")\\n# a.write(\"I am appended\")\\n# a.close()\\n\\nb=open(\"hi.pdf\",\"w\")\\nc=open(\"hii.mp4\",\"w\")\\n\\n#a does edits in same file while w does edits by creating new file\\n\\n#Rename file\\n\\nimport os\\n\\nos.rename(\"hi.pdf\",\"hy.pdf\")\\nos.remove(\"hii.mp4\")\\n\\nos.mkdir(\"gb\")', '# open()->used for creating files.(use w mode)open(\"file.txt\",\"w\")\\n# a=open(\"file.txt\",\"w\")\\n# a.write(\"Hey there!\")\\n# a.close()\\n# a=open(\"file.txt\",\"r\")\\n\\n# print(a.read())\\n# #close used to save the content\\n\\n# #adding more content\\n\\n# a=open(\"file.txt\",\"a\")\\n# a.write(\"I am appended\")\\n# a.close()\\n\\nb=open(\"hi.pdf\",\"w\")\\nc=open(\"hii.mp4\",\"w\")\\n\\n#a does edits in same file while w does edits by creating new file\\n\\n#Rename file\\n\\nimport os\\n\\nos.rename(\"hi.pdf\",\"hy.pdf\")\\nos.remove(\"hii.mp4\")\\n\\nos.mkdir(\"gb\")\\n#create folder\\nos.rmdir(\"gb\")\\n#remove folder', '# open()->used for creating files.(use w mode)open(\"file.txt\",\"w\")\\n# a=open(\"file.txt\",\"w\")\\n# a.write(\"Hey there!\")\\n# a.close()\\n# a=open(\"file.txt\",\"r\")\\n\\n# print(a.read())\\n# #close used to save the content\\n\\n# #adding more content\\n\\n# a=open(\"file.txt\",\"a\")\\n# a.write(\"I am appended\")\\n# a.close()\\n\\nb=open(\"hi.pdf\",\"w\")\\nc=open(\"hii.mp4\",\"w\")\\n\\n#a does edits in same file while w does edits by creating new file\\n\\n#Rename file\\n\\nimport os\\n\\nos.rename(\"hi.pdf\",\"hy.pdf\")\\nos.remove(\"hii.mp4\")\\n\\n# os.mkdir(\"gb\")\\n#create folder\\nos.rmdir(\"gb\")\\n#remove folder', '# open()->used for creating files.(use w mode)open(\"file.txt\",\"w\")\\n# a=open(\"file.txt\",\"w\")\\n# a.write(\"Hey there!\")\\n# a.close()\\n# a=open(\"file.txt\",\"r\")\\n\\n# print(a.read())\\n# #close used to save the content\\n\\n# #adding more content\\n\\n# a=open(\"file.txt\",\"a\")\\n# a.write(\"I am appended\")\\n# a.close()\\n\\nb=open(\"hi.pdf\",\"w\")\\nc=open(\"hii.mp4\",\"w\")\\n\\n#a does edits in same file while w does edits by creating new file\\n\\n#Rename file\\n\\nimport os\\n\\nos.rename(\"hi.pdf\",\"hy.pdf\")\\nos.remove(\"hii.mp4\")\\n\\n# os.mkdir(\"gb\")\\n#create folder\\n# os.rmdir(\"gb\")\\n#remove folder\\n\\nos.mkdir(\"gb\")\\nimport shutil\\n#Copy pasting files\\n\\nshutil.copy(\\'hi.pdf\\',\"gb\")', '# open()->used for creating files.(use w mode)open(\"file.txt\",\"w\")\\n# a=open(\"file.txt\",\"w\")\\n# a.write(\"Hey there!\")\\n# a.close()\\n# a=open(\"file.txt\",\"r\")\\n\\n# print(a.read())\\n# #close used to save the content\\n\\n# #adding more content\\n\\n# a=open(\"file.txt\",\"a\")\\n# a.write(\"I am appended\")\\n# a.close()\\n\\nb=open(\"hi.pdf\",\"w\")\\nc=open(\"hii.mp4\",\"w\")\\n\\n#a does edits in same file while w does edits by creating new file\\n\\n#Rename file\\n\\nimport os\\n\\nos.rename(\"hi.pdf\",\"hy.pdf\")\\nos.remove(\"hii.mp4\")\\n\\n# os.mkdir(\"gb\")\\n#create folder\\n# os.rmdir(\"gb\")\\n#remove folder\\n\\nos.mkdir(\"gb\")\\nimport shutil\\n#Copy pasting files\\n\\nshutil.copy(\\'hi.pdf\\',\\'/content/gb\\')', '# open()->used for creating files.(use w mode)open(\"file.txt\",\"w\")\\n# a=open(\"file.txt\",\"w\")\\n# a.write(\"Hey there!\")\\n# a.close()\\n# a=open(\"file.txt\",\"r\")\\n\\n# print(a.read())\\n# #close used to save the content\\n\\n# #adding more content\\n\\n# a=open(\"file.txt\",\"a\")\\n# a.write(\"I am appended\")\\n# a.close()\\n\\nb=open(\"hi.pdf\",\"w\")\\nc=open(\"hii.mp4\",\"w\")\\n\\n#a does edits in same file while w does edits by creating new file\\n\\n#Rename file\\n\\nimport os\\n\\nos.rename(\"hi.pdf\",\"hy.pdf\")\\nos.remove(\"hii.mp4\")\\n\\n# os.mkdir(\"gb\")\\n#create folder\\n# os.rmdir(\"gb\")\\n#remove folder\\n\\n# os.mkdir(\"gb\")\\nimport shutil\\n#Copy pasting files\\n\\nshutil.copy(\\'hi.pdf\\',\\'/content/gb\\')', '# open()->used for creating files.(use w mode)open(\"file.txt\",\"w\")\\n# a=open(\"file.txt\",\"w\")\\n# a.write(\"Hey there!\")\\n# a.close()\\n# a=open(\"file.txt\",\"r\")\\n\\n# print(a.read())\\n# #close used to save the content\\n\\n# #adding more content\\n\\n# a=open(\"file.txt\",\"a\")\\n# a.write(\"I am appended\")\\n# a.close()\\n\\nb=open(\"hi.pdf\",\"w\")\\nc=open(\"hii.mp4\",\"w\")\\n\\n#a does edits in same file while w does edits by creating new file\\n\\n#Rename file\\n\\nimport os\\n\\nos.rename(\"hi.pdf\",\"hy.pdf\")\\nos.remove(\"hii.mp4\")\\n\\n# os.mkdir(\"gb\")\\n#create folder\\n# os.rmdir(\"gb\")\\n#remove folder\\n\\n# os.mkdir(\"gb\")\\nimport shutil\\n#Copy pasting files\\n\\nshutil.copy(\\'hy.pdf\\',\\'/content/gb\\')', '# open()->used for creating files.(use w mode)open(\"file.txt\",\"w\")\\n# a=open(\"file.txt\",\"w\")\\n# a.write(\"Hey there!\")\\n# a.close()\\n# a=open(\"file.txt\",\"r\")\\n\\n# print(a.read())\\n# #close used to save the content\\n\\n# #adding more content\\n\\n# a=open(\"file.txt\",\"a\")\\n# a.write(\"I am appended\")\\n# a.close()\\n\\nb=open(\"hi.pdf\",\"w\")\\nc=open(\"hii.mp4\",\"w\")\\n\\n#a does edits in same file while w does edits by creating new file\\n\\n#Rename file\\n\\nimport os\\n\\nos.rename(\"hi.pdf\",\"hy.pdf\")\\nos.remove(\"hii.mp4\")\\n\\n# os.mkdir(\"gb\")\\n#create folder\\n# os.rmdir(\"gb\")\\n#remove folder\\n\\n# os.mkdir(\"gb\")\\nimport shutil\\n#Copy pasting files\\n\\nshutil.copy(\\'hy.pdf\\',\\'/content/gb\\')\\n\\n#Searching files\\nimport os.path\\n\\nos.path.isfile(\"hy.pdf\",\\'/content/gb\\')', '# open()->used for creating files.(use w mode)open(\"file.txt\",\"w\")\\n# a=open(\"file.txt\",\"w\")\\n# a.write(\"Hey there!\")\\n# a.close()\\n# a=open(\"file.txt\",\"r\")\\n\\n# print(a.read())\\n# #close used to save the content\\n\\n# #adding more content\\n\\n# a=open(\"file.txt\",\"a\")\\n# a.write(\"I am appended\")\\n# a.close()\\n\\nb=open(\"hi.pdf\",\"w\")\\nc=open(\"hii.mp4\",\"w\")\\n\\n#a does edits in same file while w does edits by creating new file\\n\\n#Rename file\\n\\nimport os\\n\\nos.rename(\"hi.pdf\",\"hy.pdf\")\\nos.remove(\"hii.mp4\")\\n\\n# os.mkdir(\"gb\")\\n#create folder\\n# os.rmdir(\"gb\")\\n#remove folder\\n\\n# os.mkdir(\"gb\")\\nimport shutil\\n#Copy pasting files\\n\\nshutil.copy(\\'hy.pdf\\',\\'/content/gb\\')\\n\\n#Searching files\\nimport os.path\\n\\nos.path.isfile(\\'/content/gb/hy.pdf\\')', '# open()->used for creating files.(use w mode)open(\"file.txt\",\"w\")\\n# a=open(\"file.txt\",\"w\")\\n# a.write(\"Hey there!\")\\n# a.close()\\n# a=open(\"file.txt\",\"r\")\\n\\n# print(a.read())\\n# #close used to save the content\\n\\n# #adding more content\\n\\n# a=open(\"file.txt\",\"a\")\\n# a.write(\"I am appended\")\\n# a.close()\\n\\nb=open(\"hi.pdf\",\"w\")\\nc=open(\"hii.mp4\",\"w\")\\n\\n#a does edits in same file while w does edits by creating new file\\n\\n#Rename file\\n\\nimport os\\n\\nos.rename(\"hi.pdf\",\"hy.pdf\")\\nos.remove(\"hii.mp4\")\\n\\n# os.mkdir(\"gb\")\\n#create folder\\n# os.rmdir(\"gb\")\\n#remove folder\\n\\n# os.mkdir(\"gb\")\\nimport shutil\\n#Copy pasting files\\n\\nshutil.copy(\\'hy.pdf\\',\\'/content/gb\\')\\n\\n#Searching files\\nimport os.path\\n\\nos.path.isfile(\\'/content/gb/hi.pdf\\')', '# open()->used for creating files.(use w mode)open(\"file.txt\",\"w\")\\n# a=open(\"file.txt\",\"w\")\\n# a.write(\"Hey there!\")\\n# a.close()\\n# a=open(\"file.txt\",\"r\")\\n\\n# print(a.read())\\n# #close used to save the content\\n\\n# #adding more content\\n\\n# a=open(\"file.txt\",\"a\")\\n# a.write(\"I am appended\")\\n# a.close()\\n\\nb=open(\"hi.pdf\",\"w\")\\nc=open(\"hii.mp4\",\"w\")\\n\\n#a does edits in same file while w does edits by creating new file\\n\\n#Rename file\\n\\nimport os\\n\\nos.rename(\"hi.pdf\",\"hy.pdf\")\\nos.remove(\"hii.mp4\")\\n\\n# os.mkdir(\"gb\")\\n#create folder\\n# os.rmdir(\"gb\")\\n#remove folder\\n\\n# os.mkdir(\"gb\")\\nimport shutil\\n#Copy pasting files\\n\\nshutil.copy(\\'hy.pdf\\',\\'/content/gb\\')\\n\\n#Searching files\\nimport os.path\\n\\nos.path.isfile(\\'/content/gb/hi.pdf\\')\\nos.path.isdir(\\'/content/gb\\')', '# open()->used for creating files.(use w mode)open(\"file.txt\",\"w\")\\n# a=open(\"file.txt\",\"w\")\\n# a.write(\"Hey there!\")\\n# a.close()\\n# a=open(\"file.txt\",\"r\")\\n\\n# print(a.read())\\n# #close used to save the content\\n\\n# #adding more content\\n\\n# a=open(\"file.txt\",\"a\")\\n# a.write(\"I am appended\")\\n# a.close()\\n\\nb=open(\"hi.pdf\",\"w\")\\nc=open(\"hii.mp4\",\"w\")\\n\\n#a does edits in same file while w does edits by creating new file\\n\\n#Rename file\\n\\nimport os\\n\\nos.rename(\"hi.pdf\",\"hy.pdf\")\\nos.remove(\"hii.mp4\")\\n\\n# os.mkdir(\"gb\")\\n#create folder\\n# os.rmdir(\"gb\")\\n#remove folder\\n\\n# os.mkdir(\"gb\")\\nimport shutil\\n#Copy pasting files\\n\\nshutil.copy(\\'hy.pdf\\',\\'/content/gb\\')\\n\\n#Searching files\\nimport os.path\\n\\nos.path.isfile(\\'/content/gb/hi.pdf\\')\\nprint(os.path.isdir(\\'/content/gb\\'))', '# open()->used for creating files.(use w mode)open(\"file.txt\",\"w\")\\n# a=open(\"file.txt\",\"w\")\\n# a.write(\"Hey there!\")\\n# a.close()\\n# a=open(\"file.txt\",\"r\")\\n\\n# print(a.read())\\n# #close used to save the content\\n\\n# #adding more content\\n\\n# a=open(\"file.txt\",\"a\")\\n# a.write(\"I am appended\")\\n# a.close()\\n\\nb=open(\"hi.pdf\",\"w\")\\nc=open(\"hii.mp4\",\"w\")\\n\\n#a does edits in same file while w does edits by creating new file\\n\\n#Rename file\\n\\nimport os\\n\\nos.rename(\"hi.pdf\",\"hy.pdf\")\\nos.remove(\"hii.mp4\")\\n\\n# os.mkdir(\"gb\")\\n#create folder\\n# os.rmdir(\"gb\")\\n#remove folder\\n\\n# os.mkdir(\"gb\")\\nimport shutil\\n#Copy pasting files\\n\\nshutil.copy(\\'hy.pdf\\',\\'/content/gb\\')\\n\\n#Searching files\\nimport os.path\\n\\n# os.path.isfile(\\'/content/gb/hi.pdf\\')\\nprint(os.path.isdir(\\'/content/gb\\'))', '# open()->used for creating files.(use w mode)open(\"file.txt\",\"w\")\\n# a=open(\"file.txt\",\"w\")\\n# a.write(\"Hey there!\")\\n# a.close()\\n# a=open(\"file.txt\",\"r\")\\n\\n# print(a.read())\\n# #close used to save the content\\n\\n# #adding more content\\n\\n# a=open(\"file.txt\",\"a\")\\n# a.write(\"I am appended\")\\n# a.close()\\n\\nb=open(\"hi.pdf\",\"w\")\\nc=open(\"hii.mp4\",\"w\")\\n\\n#a does edits in same file while w does edits by creating new file\\n\\n#Rename file\\n\\nimport os\\n\\nos.rename(\"hi.pdf\",\"hy.pdf\")\\nos.remove(\"hii.mp4\")\\n\\n# os.mkdir(\"gb\")\\n#create folder\\n# os.rmdir(\"gb\")\\n#remove folder\\n\\n# os.mkdir(\"gb\")\\nimport shutil\\n#Copy pasting files\\n\\nshutil.copy(\\'hy.pdf\\',\\'/content/gb\\')\\n\\n#Searching files\\nimport os.path\\n\\n# os.path.isfile(\\'/content/gb/hi.pdf\\')\\nprint(os.path.isdir(\\'/content/gn\\'))', '# open()->used for creating files.(use w mode)open(\"file.txt\",\"w\")\\n# a=open(\"file.txt\",\"w\")\\n# a.write(\"Hey there!\")\\n# a.close()\\n# a=open(\"file.txt\",\"r\")\\n\\n# print(a.read())\\n# #close used to save the content\\n\\n# #adding more content\\n\\n# a=open(\"file.txt\",\"a\")\\n# a.write(\"I am appended\")\\n# a.close()\\n\\nb=open(\"hi.pdf\",\"w\")\\nc=open(\"hii.mp4\",\"w\")\\n\\n#a does edits in same file while w does edits by creating new file\\n\\n#Rename file\\n\\nimport os\\n\\nos.rename(\"hi.pdf\",\"hy.pdf\")\\nos.remove(\"hii.mp4\")\\n\\n# os.mkdir(\"gb\")\\n#create folder\\n# os.rmdir(\"gb\")\\n#remove folder\\n\\n# os.mkdir(\"gb\")\\nimport shutil\\n#Copy pasting files\\n\\nshutil.copy(\\'hy.pdf\\',\\'/content/gb\\')\\n\\n#Searching files\\nimport os.path\\n\\n# os.path.isfile(\\'/content/gb/hi.pdf\\')\\nprint(os.path.isdir(\\'/content/gb\\'))\\n\\n#.exists works for both file and folder', '# open()->used for creating files.(use w mode)open(\"file.txt\",\"w\")\\n# a=open(\"file.txt\",\"w\")\\n# a.write(\"Hey there!\")\\n# a.close()\\n# a=open(\"file.txt\",\"r\")\\n\\n# print(a.read())\\n# #close used to save the content\\n\\n# #adding more content\\n\\n# a=open(\"file.txt\",\"a\")\\n# a.write(\"I am appended\")\\n# a.close()\\n\\nb=open(\"hi.pdf\",\"w\")\\nc=open(\"hii.mp4\",\"w\")\\n\\n#a does edits in same file while w does edits by creating new file\\n\\n#Rename file\\n\\nimport os\\n\\nos.rename(\"hi.pdf\",\"hy.pdf\")\\nos.remove(\"hii.mp4\")\\n\\n# os.mkdir(\"gb\")\\n#create folder\\n# os.rmdir(\"gb\")\\n#remove folder\\n\\n# os.mkdir(\"gb\")\\nimport shutil\\n#Copy pasting files\\n\\nshutil.copy(\\'hy.pdf\\',\\'/content/gb\\')\\n\\n#Searching files\\nimport os.path\\n\\n# os.path.isfile(\\'/content/gb/hi.pdf\\')\\nprint(os.path.isdir(\\'/content/gb\\'))\\n\\n#.exists works for both file and folder\\n\\n#Convering file to zip file\\nimport zipfile\\n\\nx=zipfile.ZipFile(\"myZipFile.zip\",\"w\")\\nx.write(\"hy.pdf\")\\nx.close()', '# open()->used for creating files.(use w mode)open(\"file.txt\",\"w\")\\n# a=open(\"file.txt\",\"w\")\\n# a.write(\"Hey there!\")\\n# a.close()\\n# a=open(\"file.txt\",\"r\")\\n\\n# print(a.read())\\n# #close used to save the content\\n\\n# #adding more content\\n\\n# a=open(\"file.txt\",\"a\")\\n# a.write(\"I am appended\")\\n# a.close()\\n\\nb=open(\"hi.pdf\",\"w\")\\nc=open(\"hii.mp4\",\"w\")\\n\\n#a does edits in same file while w does edits by creating new file\\n\\n#Rename file\\n\\nimport os\\n\\nos.rename(\"hi.pdf\",\"hy.pdf\")\\nos.remove(\"hii.mp4\")\\n\\n# os.mkdir(\"gb\")\\n#create folder\\n# os.rmdir(\"gb\")\\n#remove folder\\n\\n# os.mkdir(\"gb\")\\nimport shutil\\n#Copy pasting files\\n\\nshutil.copy(\\'hy.pdf\\',\\'/content/gb\\')\\n\\n#Searching files\\nimport os.path\\n\\n# os.path.isfile(\\'/content/gb/hi.pdf\\')\\nprint(os.path.isdir(\\'/content/gb\\'))\\n\\n#.exists works for both file and folder\\n\\n#Convering file to zip file\\nimport zipfile\\n\\nx=zipfile.ZipFile(\"myZipFile.zip\",\"w\")\\nx.write(\"hy.pdf\")\\nx.close()\\n\\n#Extracting files\\n\\na=zipfile.ZipFile(\"myZipFile.zip\")\\na.extractall()', '# open()->used for creating files.(use w mode)open(\"file.txt\",\"w\")\\n# a=open(\"file.txt\",\"w\")\\n# a.write(\"Hey there!\")\\n# a.close()\\n# a=open(\"file.txt\",\"r\")\\n\\n# print(a.read())\\n# #close used to save the content\\n\\n# #adding more content\\n\\n# a=open(\"file.txt\",\"a\")\\n# a.write(\"I am appended\")\\n# a.close()\\n\\nb=open(\"hi.pdf\",\"w\")\\nc=open(\"hii.mp4\",\"w\")\\n\\n#a does edits in same file while w does edits by creating new file\\n\\n#Rename file\\n\\nimport os\\n\\nos.rename(\"hi.pdf\",\"hy.pdf\")\\nos.remove(\"hii.mp4\")\\n\\n# os.mkdir(\"gb\")\\n#create folder\\n# os.rmdir(\"gb\")\\n#remove folder\\n\\n# os.mkdir(\"gb\")\\nimport shutil\\n#Copy pasting files\\n\\nshutil.copy(\\'hy.pdf\\',\\'/content/gb\\')\\n\\n#Searching files\\nimport os.path\\n\\n# os.path.isfile(\\'/content/gb/hi.pdf\\')\\nprint(os.path.isdir(\\'/content/gb\\'))\\n\\n#.exists works for both file and folder\\n\\n#Convering file to zip file\\nimport zipfile\\n\\n# x=zipfile.ZipFile(\"myZipFile.zip\",\"w\")\\n# x.write(\"hy.pdf\")\\n# x.close()\\n\\n#Extracting files\\n\\na=zipfile.ZipFile(\"myZipFile.zip\")\\na.extractall(\\'/content/gb\\')', '# open()->used for creating files.(use w mode)open(\"file.txt\",\"w\")\\n# a=open(\"file.txt\",\"w\")\\n# a.write(\"Hey there!\")\\n# a.close()\\n# a=open(\"file.txt\",\"r\")\\n\\n# print(a.read())\\n# #close used to save the content\\n\\n# #adding more content\\n\\n# a=open(\"file.txt\",\"a\")\\n# a.write(\"I am appended\")\\n# a.close()\\n\\nb=open(\"hi.pdf\",\"w\")\\nc=open(\"hii.mp4\",\"w\")\\n\\n#a does edits in same file while w does edits by creating new file\\n\\n#Rename file\\n\\nimport os\\n\\nos.rename(\"hi.pdf\",\"hy.pdf\")\\nos.remove(\"hii.mp4\")\\n\\n# os.mkdir(\"gb\")\\n#create folder\\n# os.rmdir(\"gb\")\\n#remove folder\\n\\n# os.mkdir(\"gb\")\\nimport shutil\\n#Copy pasting files\\n\\nshutil.copy(\\'hy.pdf\\',\\'/content/gb\\')\\n\\n#Searching files\\nimport os.path\\n\\n# os.path.isfile(\\'/content/gb/hi.pdf\\')\\nprint(os.path.isdir(\\'/content/gb\\'))\\n\\n#.exists works for both file and folder\\n\\n#Convering file to zip file\\nimport zipfile\\n\\n# x=zipfile.ZipFile(\"myZipFile.zip\",\"w\")\\n# x.write(\"hy.pdf\")\\n# x.close()\\n\\n#Extracting files\\n\\na=zipfile.ZipFile(\"myZipFile.zip\")\\na.extractall(\\'/content/gb\\')', '# open()->used for creating files.(use w mode)open(\"file.txt\",\"w\")\\n# a=open(\"file.txt\",\"w\")\\n# a.write(\"Hey there!\")\\n# a.close()\\n# a=open(\"file.txt\",\"r\")\\n\\n# print(a.read())\\n# #close used to save the content\\n\\n# #adding more content\\n\\n# a=open(\"file.txt\",\"a\")\\n# a.write(\"I am appended\")\\n# a.close()\\n\\nb=open(\"hi.pdf\",\"w\")\\nc=open(\"hii.mp4\",\"w\")\\n\\n#a does edits in same file while w does edits by creating new file\\n\\n#Rename file\\n\\nimport os\\n\\nos.rename(\"hi.pdf\",\"hy.pdf\")\\nos.remove(\"hii.mp4\")\\n\\n# os.mkdir(\"gb\")\\n#create folder\\n# os.rmdir(\"gb\")\\n#remove folder\\n\\n# os.mkdir(\"gb\")\\nimport shutil\\n#Copy pasting files\\n\\nshutil.copy(\\'hy.pdf\\',\\'/content/gb\\')\\n\\n#Searching files\\nimport os.path\\n\\n# os.path.isfile(\\'/content/gb/hi.pdf\\')\\nprint(os.path.isdir(\\'/content/gb\\'))\\n\\n#.exists works for both file and folder\\n\\n#Convering file to zip file\\nimport zipfile\\n\\n# x=zipfile.ZipFile(\"myZipFile.zip\",\"w\")\\n# x.write(\"hy.pdf\")\\n# x.close()\\n\\n#Extracting files\\n\\na=zipfile.ZipFile(\"myZipFile.zip\")\\na.extractall()', 'def me():\\n  print(\"Shreya\")\\nme()  ', 'def me():\\n  print(\"Shreya\")\\nme() \\n\\ndef none():\\n  return \\'Gullu\\'\\n  \\nprint(print(print(none())))', '#Types: Inbuilt..Use_defined\\n# User_defined:default(non-parameterised),parameterised,anonymous\\n# def xyz()==>default\\n# def xyz(a,b,c)==>para\\n#anonymous\\n\\ndef add(a,b):\\n  print(a+b)\\nadd(1,4)  ', '#Types: Inbuilt..Use_defined\\n# User_defined:default(non-parameterised),parameterised,anonymous\\n# def xyz()==>default\\n# def xyz(a,b,c)==>para\\n#anonymous\\n\\ndef add(a,b):\\n  #formal argument above\\n  print(a+b)\\nadd(1,4)  \\n#actual argument above\\n\\n#anonymous fn--fn without name(nameless fn)\\n#we use lambda expression for this\\n\\nt=lambda c,d:c+d\\nprint(t(5,6))', '#Types: Inbuilt..Use_defined\\n# User_defined:default(non-parameterised),parameterised,anonymous\\n# def xyz()==>default\\n# def xyz(a,b,c)==>para\\n#anonymous\\n\\ndef add(a,b):\\n  #formal argument above\\n  print(a+b)\\nadd(1,4)  \\n#actual argument above\\n\\n#anonymous fn--fn without name(nameless fn)\\n#we use lambda expression for this\\n\\nt=lambda c,d:c+d\\nprint(t(5,6))\\n\\ns=lambda a,b,c=a*b*c\\nprint(s(6,7,8))', '#Types: Inbuilt..Use_defined\\n# User_defined:default(non-parameterised),parameterised,anonymous\\n# def xyz()==>default\\n# def xyz(a,b,c)==>para\\n#anonymous\\n\\ndef add(a,b):\\n  #formal argument above\\n  print(a+b)\\nadd(1,4)  \\n#actual argument above\\n\\n#anonymous fn--fn without name(nameless fn)\\n#we use lambda expression for this\\n\\nt=lambda c,d:c+d\\nprint(t(5,6))\\n\\ns=lambda a,b,c:a*b*c\\nprint(s(6,7,8))', '#Types: Inbuilt..Use_defined\\n# User_defined:default(non-parameterised),parameterised,anonymous\\n# def xyz()==>default\\n# def xyz(a,b,c)==>para\\n#anonymous\\n\\ndef add(a,b):\\n  #formal argument above\\n  print(a+b)\\nadd(1,4)  \\n#actual argument above\\n\\n#anonymous fn--fn without name(nameless fn)\\n#we use lambda expression for this\\n\\nt=lambda c,d:c+d\\nprint(t(5,6))\\n\\ns=lambda a,b,c:a*b*c\\nprint(s(6,7,8))\\n\\n#Scope of fn[global and local(preferred)]\\n#global keyword to convert local to global\\n# globals returns dictionary of global varialbles\\nprint(globals())'], 'Out': {8: <_io.TextIOWrapper name='file.txt' mode='w' encoding='UTF-8'>, 9: 10, 10: 10, 11: <built-in method close of _io.TextIOWrapper object at 0x7e24e6aa1490>, 12: <built-in method close of _io.TextIOWrapper object at 0x7e24e6aa1220>, 30: '/content/gb/hy.pdf', 32: True, 33: False, 34: True}, 'get_ipython': <bound method InteractiveShell.get_ipython of <google.colab._shell.Shell object at 0x7e24f7dc9ff0>>, 'exit': <IPython.core.autocall.ZMQExitAutocall object at 0x7e24f7dca590>, 'quit': <IPython.core.autocall.ZMQExitAutocall object at 0x7e24f7dca590>, '_': True, '__': False, '___': True, '_i': '#Types: Inbuilt..Use_defined\\n# User_defined:default(non-parameterised),parameterised,anonymous\\n# def xyz()==>default\\n# def xyz(a,b,c)==>para\\n#anonymous\\n\\ndef add(a,b):\\n  #formal argument above\\n  print(a+b)\\nadd(1,4)  \\n#actual argument above\\n\\n#anonymous fn--fn without name(nameless fn)\\n#we use lambda expression for this\\n\\nt=lambda c,d:c+d\\nprint(t(5,6))\\n\\ns=lambda a,b,c:a*b*c\\nprint(s(6,7,8))', '_ii': '#Types: Inbuilt..Use_defined\\n# User_defined:default(non-parameterised),parameterised,anonymous\\n# def xyz()==>default\\n# def xyz(a,b,c)==>para\\n#anonymous\\n\\ndef add(a,b):\\n  #formal argument above\\n  print(a+b)\\nadd(1,4)  \\n#actual argument above\\n\\n#anonymous fn--fn without name(nameless fn)\\n#we use lambda expression for this\\n\\nt=lambda c,d:c+d\\nprint(t(5,6))\\n\\ns=lambda a,b,c=a*b*c\\nprint(s(6,7,8))', '_iii': '#Types: Inbuilt..Use_defined\\n# User_defined:default(non-parameterised),parameterised,anonymous\\n# def xyz()==>default\\n# def xyz(a,b,c)==>para\\n#anonymous\\n\\ndef add(a,b):\\n  #formal argument above\\n  print(a+b)\\nadd(1,4)  \\n#actual argument above\\n\\n#anonymous fn--fn without name(nameless fn)\\n#we use lambda expression for this\\n\\nt=lambda c,d:c+d\\nprint(t(5,6))', '_i1': 'for i in range(1,11):\\n  print(2*i)', 'i': 6, '_i2': 'num=int(input(\"Enter the number\"))\\n\\nfor i in range(1,11):\\n  print(num*i)', 'num': 5, '_i3': '#Table generator using for loop\\n\\nnum=int(input(\"Enter the number\"))\\n\\nfor i in range(1,11):\\n  print(num*i)\\n\\nfor i in range(1,4):\\n  for j in range(1,5):\\n    print(\"*\")  ', 'j': 6, '_i4': '#Table generator using for loop\\n\\nnum=int(input(\"Enter the number\"))\\n\\nfor i in range(1,11):\\n  print(num*i)\\n\\nfor i in range(1,4):\\n  for j in range(1,5):\\n    print(\"*\",end=\\'\\') \\n  print()   ', '_i5': '#Table generator using for loop\\n\\nnum=int(input(\"Enter the number\"))\\n\\nfor i in range(1,11):\\n  print(num*i)\\n\\nfor i in range(1,4):\\n  for j in range(1,5):\\n    print(\"*\",end=\\'\\') \\n  print()   \\n\\nfor i in range(1,4):\\n  for j in range(1,i):\\n    print(\"*\",end=\\'\\') \\n  print()  ', '_i6': '#Table generator using for loop\\n\\nnum=int(input(\"Enter the number\"))\\n\\nfor i in range(1,11):\\n  print(num*i)\\n\\nfor i in range(1,4):\\n  for j in range(1,5):\\n    print(\"*\",end=\\'\\') \\n  print()   \\n\\nfor i in range(1,7):\\n  for j in range(1,i):\\n    print(\"*\",end=\\'\\') \\n  print()  ', '_i7': '#Table generator using for loop\\n\\nnum=int(input(\"Enter the number\"))\\n\\nfor i in range(1,11):\\n  print(num*i)\\n\\nfor i in range(1,4):\\n  for j in range(1,5):\\n    print(\"*\",end=\\'\\') \\n  print()   \\n\\nfor i in range(1,7):\\n  for j in range(1,i+1):\\n    print(\"*\",end=\\'\\') \\n  print()  ', '_i8': '# open()->used for creating files.(use w mode)open(\"file.txt\",\"w\")\\nopen(\"file.txt\",\"w\")', '_8': <_io.TextIOWrapper name='file.txt' mode='w' encoding='UTF-8'>, '_i9': '# open()->used for creating files.(use w mode)open(\"file.txt\",\"w\")\\nfile=open(\"file.txt\",\"w\")\\nfile.write(\"Hey there!\")', 'file': <_io.TextIOWrapper name='file.txt' mode='w' encoding='UTF-8'>, '_9': 10, '_i10': '# open()->used for creating files.(use w mode)open(\"file.txt\",\"w\")\\na=open(\"file.txt\",\"w\")\\na.write(\"Hey there!\")', 'a': <zipfile.ZipFile filename='myZipFile.zip' mode='r'>, '_10': 10, '_i11': '# open()->used for creating files.(use w mode)open(\"file.txt\",\"w\")\\na=open(\"file.txt\",\"w\")\\na.write(\"Hey there!\")\\na.close', '_11': <built-in method close of _io.TextIOWrapper object at 0x7e24e6aa1490>, '_i12': '# open()->used for creating files.(use w mode)open(\"file.txt\",\"w\")\\na=open(\"file.txt\",\"w\")\\na.write(\"Hey there!\")\\na.close', '_12': <built-in method close of _io.TextIOWrapper object at 0x7e24e6aa1220>, '_i13': '# open()->used for creating files.(use w mode)open(\"file.txt\",\"w\")\\na=open(\"file.txt\",\"w\")\\na.write(\"Hey there!\")\\na.close()\\n#close used to save the content', '_i14': '# open()->used for creating files.(use w mode)open(\"file.txt\",\"w\")\\na=open(\"file.txt\",\"w\")\\n# a.write(\"Hey there!\")\\n# a.close()\\nprint(a.read())\\n#close used to save the content', '_i15': '# open()->used for creating files.(use w mode)open(\"file.txt\",\"w\")\\n# a=open(\"file.txt\",\"w\")\\n# a.write(\"Hey there!\")\\n# a.close()\\na=open(\"file.txt\",\"r\")\\n\\nprint(a.read())\\n#close used to save the content', '_i16': '# open()->used for creating files.(use w mode)open(\"file.txt\",\"w\")\\n# a=open(\"file.txt\",\"w\")\\n# a.write(\"Hey there!\")\\n# a.close()\\na=open(\"file.txt\",\"r\")\\n\\nprint(a.read())\\n#close used to save the content', '_i17': '# open()->used for creating files.(use w mode)open(\"file.txt\",\"w\")\\n# a=open(\"file.txt\",\"w\")\\n# a.write(\"Hey there!\")\\n# a.close()\\na=open(\"file.txt\",\"r\")\\n\\nprint(a.read())\\n#close used to save the content', '_i18': '# open()->used for creating files.(use w mode)open(\"file.txt\",\"w\")\\na=open(\"file.txt\",\"w\")\\na.write(\"Hey there!\")\\na.close()\\na=open(\"file.txt\",\"r\")\\n\\nprint(a.read())\\n#close used to save the content', '_i19': '# open()->used for creating files.(use w mode)open(\"file.txt\",\"w\")\\na=open(\"file.txt\",\"w\")\\na.write(\"Hey there!\")\\na.close()\\na=open(\"file.txt\",\"r\")\\n\\nprint(a.read())\\n#close used to save the content\\n\\n#adding more content\\n\\na=open(\"file.txt\",\"a\")\\na.write(\"I am appended\")\\na.close()', '_i20': '# open()->used for creating files.(use w mode)open(\"file.txt\",\"w\")\\n# a=open(\"file.txt\",\"w\")\\n# a.write(\"Hey there!\")\\n# a.close()\\n# a=open(\"file.txt\",\"r\")\\n\\n# print(a.read())\\n# #close used to save the content\\n\\n# #adding more content\\n\\n# a=open(\"file.txt\",\"a\")\\n# a.write(\"I am appended\")\\n# a.close()\\n\\nb=open(\"hi.pdf\",\"w\")', 'b': <_io.TextIOWrapper name='hi.pdf' mode='w' encoding='UTF-8'>, '_i21': '# open()->used for creating files.(use w mode)open(\"file.txt\",\"w\")\\n# a=open(\"file.txt\",\"w\")\\n# a.write(\"Hey there!\")\\n# a.close()\\n# a=open(\"file.txt\",\"r\")\\n\\n# print(a.read())\\n# #close used to save the content\\n\\n# #adding more content\\n\\n# a=open(\"file.txt\",\"a\")\\n# a.write(\"I am appended\")\\n# a.close()\\n\\nb=open(\"hi.pdf\",\"w\")\\nc=open(\"hii.mp4\",\"w\")', 'c': <_io.TextIOWrapper name='hii.mp4' mode='w' encoding='UTF-8'>, '_i22': '# open()->used for creating files.(use w mode)open(\"file.txt\",\"w\")\\n# a=open(\"file.txt\",\"w\")\\n# a.write(\"Hey there!\")\\n# a.close()\\n# a=open(\"file.txt\",\"r\")\\n\\n# print(a.read())\\n# #close used to save the content\\n\\n# #adding more content\\n\\n# a=open(\"file.txt\",\"a\")\\n# a.write(\"I am appended\")\\n# a.close()\\n\\nb=open(\"hi.pdf\",\"w\")\\nc=open(\"hii.mp4\",\"w\")\\n\\n#a does edits in same file while w does edits by creating new file\\n\\n#Rename file\\n\\nimport os\\n\\nos.rename(\"hi.pdf\",\"hy.pdf\")', 'os': <module 'os' from '/usr/lib/python3.10/os.py'>, '_i23': '# open()->used for creating files.(use w mode)open(\"file.txt\",\"w\")\\n# a=open(\"file.txt\",\"w\")\\n# a.write(\"Hey there!\")\\n# a.close()\\n# a=open(\"file.txt\",\"r\")\\n\\n# print(a.read())\\n# #close used to save the content\\n\\n# #adding more content\\n\\n# a=open(\"file.txt\",\"a\")\\n# a.write(\"I am appended\")\\n# a.close()\\n\\nb=open(\"hi.pdf\",\"w\")\\nc=open(\"hii.mp4\",\"w\")\\n\\n#a does edits in same file while w does edits by creating new file\\n\\n#Rename file\\n\\nimport os\\n\\nos.rename(\"hi.pdf\",\"hy.pdf\")\\nos.remove(\"hii.mp4\")', '_i24': '# open()->used for creating files.(use w mode)open(\"file.txt\",\"w\")\\n# a=open(\"file.txt\",\"w\")\\n# a.write(\"Hey there!\")\\n# a.close()\\n# a=open(\"file.txt\",\"r\")\\n\\n# print(a.read())\\n# #close used to save the content\\n\\n# #adding more content\\n\\n# a=open(\"file.txt\",\"a\")\\n# a.write(\"I am appended\")\\n# a.close()\\n\\nb=open(\"hi.pdf\",\"w\")\\nc=open(\"hii.mp4\",\"w\")\\n\\n#a does edits in same file while w does edits by creating new file\\n\\n#Rename file\\n\\nimport os\\n\\nos.rename(\"hi.pdf\",\"hy.pdf\")\\nos.remove(\"hii.mp4\")\\n\\nos.mkdir(\"gb\")', '_i25': '# open()->used for creating files.(use w mode)open(\"file.txt\",\"w\")\\n# a=open(\"file.txt\",\"w\")\\n# a.write(\"Hey there!\")\\n# a.close()\\n# a=open(\"file.txt\",\"r\")\\n\\n# print(a.read())\\n# #close used to save the content\\n\\n# #adding more content\\n\\n# a=open(\"file.txt\",\"a\")\\n# a.write(\"I am appended\")\\n# a.close()\\n\\nb=open(\"hi.pdf\",\"w\")\\nc=open(\"hii.mp4\",\"w\")\\n\\n#a does edits in same file while w does edits by creating new file\\n\\n#Rename file\\n\\nimport os\\n\\nos.rename(\"hi.pdf\",\"hy.pdf\")\\nos.remove(\"hii.mp4\")\\n\\nos.mkdir(\"gb\")\\n#create folder\\nos.rmdir(\"gb\")\\n#remove folder', '_i26': '# open()->used for creating files.(use w mode)open(\"file.txt\",\"w\")\\n# a=open(\"file.txt\",\"w\")\\n# a.write(\"Hey there!\")\\n# a.close()\\n# a=open(\"file.txt\",\"r\")\\n\\n# print(a.read())\\n# #close used to save the content\\n\\n# #adding more content\\n\\n# a=open(\"file.txt\",\"a\")\\n# a.write(\"I am appended\")\\n# a.close()\\n\\nb=open(\"hi.pdf\",\"w\")\\nc=open(\"hii.mp4\",\"w\")\\n\\n#a does edits in same file while w does edits by creating new file\\n\\n#Rename file\\n\\nimport os\\n\\nos.rename(\"hi.pdf\",\"hy.pdf\")\\nos.remove(\"hii.mp4\")\\n\\n# os.mkdir(\"gb\")\\n#create folder\\nos.rmdir(\"gb\")\\n#remove folder', '_i27': '# open()->used for creating files.(use w mode)open(\"file.txt\",\"w\")\\n# a=open(\"file.txt\",\"w\")\\n# a.write(\"Hey there!\")\\n# a.close()\\n# a=open(\"file.txt\",\"r\")\\n\\n# print(a.read())\\n# #close used to save the content\\n\\n# #adding more content\\n\\n# a=open(\"file.txt\",\"a\")\\n# a.write(\"I am appended\")\\n# a.close()\\n\\nb=open(\"hi.pdf\",\"w\")\\nc=open(\"hii.mp4\",\"w\")\\n\\n#a does edits in same file while w does edits by creating new file\\n\\n#Rename file\\n\\nimport os\\n\\nos.rename(\"hi.pdf\",\"hy.pdf\")\\nos.remove(\"hii.mp4\")\\n\\n# os.mkdir(\"gb\")\\n#create folder\\n# os.rmdir(\"gb\")\\n#remove folder\\n\\nos.mkdir(\"gb\")\\nimport shutil\\n#Copy pasting files\\n\\nshutil.copy(\\'hi.pdf\\',\"gb\")', 'shutil': <module 'shutil' from '/usr/lib/python3.10/shutil.py'>, '_i28': '# open()->used for creating files.(use w mode)open(\"file.txt\",\"w\")\\n# a=open(\"file.txt\",\"w\")\\n# a.write(\"Hey there!\")\\n# a.close()\\n# a=open(\"file.txt\",\"r\")\\n\\n# print(a.read())\\n# #close used to save the content\\n\\n# #adding more content\\n\\n# a=open(\"file.txt\",\"a\")\\n# a.write(\"I am appended\")\\n# a.close()\\n\\nb=open(\"hi.pdf\",\"w\")\\nc=open(\"hii.mp4\",\"w\")\\n\\n#a does edits in same file while w does edits by creating new file\\n\\n#Rename file\\n\\nimport os\\n\\nos.rename(\"hi.pdf\",\"hy.pdf\")\\nos.remove(\"hii.mp4\")\\n\\n# os.mkdir(\"gb\")\\n#create folder\\n# os.rmdir(\"gb\")\\n#remove folder\\n\\nos.mkdir(\"gb\")\\nimport shutil\\n#Copy pasting files\\n\\nshutil.copy(\\'hi.pdf\\',\\'/content/gb\\')', '_i29': '# open()->used for creating files.(use w mode)open(\"file.txt\",\"w\")\\n# a=open(\"file.txt\",\"w\")\\n# a.write(\"Hey there!\")\\n# a.close()\\n# a=open(\"file.txt\",\"r\")\\n\\n# print(a.read())\\n# #close used to save the content\\n\\n# #adding more content\\n\\n# a=open(\"file.txt\",\"a\")\\n# a.write(\"I am appended\")\\n# a.close()\\n\\nb=open(\"hi.pdf\",\"w\")\\nc=open(\"hii.mp4\",\"w\")\\n\\n#a does edits in same file while w does edits by creating new file\\n\\n#Rename file\\n\\nimport os\\n\\nos.rename(\"hi.pdf\",\"hy.pdf\")\\nos.remove(\"hii.mp4\")\\n\\n# os.mkdir(\"gb\")\\n#create folder\\n# os.rmdir(\"gb\")\\n#remove folder\\n\\n# os.mkdir(\"gb\")\\nimport shutil\\n#Copy pasting files\\n\\nshutil.copy(\\'hi.pdf\\',\\'/content/gb\\')', '_i30': '# open()->used for creating files.(use w mode)open(\"file.txt\",\"w\")\\n# a=open(\"file.txt\",\"w\")\\n# a.write(\"Hey there!\")\\n# a.close()\\n# a=open(\"file.txt\",\"r\")\\n\\n# print(a.read())\\n# #close used to save the content\\n\\n# #adding more content\\n\\n# a=open(\"file.txt\",\"a\")\\n# a.write(\"I am appended\")\\n# a.close()\\n\\nb=open(\"hi.pdf\",\"w\")\\nc=open(\"hii.mp4\",\"w\")\\n\\n#a does edits in same file while w does edits by creating new file\\n\\n#Rename file\\n\\nimport os\\n\\nos.rename(\"hi.pdf\",\"hy.pdf\")\\nos.remove(\"hii.mp4\")\\n\\n# os.mkdir(\"gb\")\\n#create folder\\n# os.rmdir(\"gb\")\\n#remove folder\\n\\n# os.mkdir(\"gb\")\\nimport shutil\\n#Copy pasting files\\n\\nshutil.copy(\\'hy.pdf\\',\\'/content/gb\\')', '_30': '/content/gb/hy.pdf', '_i31': '# open()->used for creating files.(use w mode)open(\"file.txt\",\"w\")\\n# a=open(\"file.txt\",\"w\")\\n# a.write(\"Hey there!\")\\n# a.close()\\n# a=open(\"file.txt\",\"r\")\\n\\n# print(a.read())\\n# #close used to save the content\\n\\n# #adding more content\\n\\n# a=open(\"file.txt\",\"a\")\\n# a.write(\"I am appended\")\\n# a.close()\\n\\nb=open(\"hi.pdf\",\"w\")\\nc=open(\"hii.mp4\",\"w\")\\n\\n#a does edits in same file while w does edits by creating new file\\n\\n#Rename file\\n\\nimport os\\n\\nos.rename(\"hi.pdf\",\"hy.pdf\")\\nos.remove(\"hii.mp4\")\\n\\n# os.mkdir(\"gb\")\\n#create folder\\n# os.rmdir(\"gb\")\\n#remove folder\\n\\n# os.mkdir(\"gb\")\\nimport shutil\\n#Copy pasting files\\n\\nshutil.copy(\\'hy.pdf\\',\\'/content/gb\\')\\n\\n#Searching files\\nimport os.path\\n\\nos.path.isfile(\"hy.pdf\",\\'/content/gb\\')', '_i32': '# open()->used for creating files.(use w mode)open(\"file.txt\",\"w\")\\n# a=open(\"file.txt\",\"w\")\\n# a.write(\"Hey there!\")\\n# a.close()\\n# a=open(\"file.txt\",\"r\")\\n\\n# print(a.read())\\n# #close used to save the content\\n\\n# #adding more content\\n\\n# a=open(\"file.txt\",\"a\")\\n# a.write(\"I am appended\")\\n# a.close()\\n\\nb=open(\"hi.pdf\",\"w\")\\nc=open(\"hii.mp4\",\"w\")\\n\\n#a does edits in same file while w does edits by creating new file\\n\\n#Rename file\\n\\nimport os\\n\\nos.rename(\"hi.pdf\",\"hy.pdf\")\\nos.remove(\"hii.mp4\")\\n\\n# os.mkdir(\"gb\")\\n#create folder\\n# os.rmdir(\"gb\")\\n#remove folder\\n\\n# os.mkdir(\"gb\")\\nimport shutil\\n#Copy pasting files\\n\\nshutil.copy(\\'hy.pdf\\',\\'/content/gb\\')\\n\\n#Searching files\\nimport os.path\\n\\nos.path.isfile(\\'/content/gb/hy.pdf\\')', '_32': True, '_i33': '# open()->used for creating files.(use w mode)open(\"file.txt\",\"w\")\\n# a=open(\"file.txt\",\"w\")\\n# a.write(\"Hey there!\")\\n# a.close()\\n# a=open(\"file.txt\",\"r\")\\n\\n# print(a.read())\\n# #close used to save the content\\n\\n# #adding more content\\n\\n# a=open(\"file.txt\",\"a\")\\n# a.write(\"I am appended\")\\n# a.close()\\n\\nb=open(\"hi.pdf\",\"w\")\\nc=open(\"hii.mp4\",\"w\")\\n\\n#a does edits in same file while w does edits by creating new file\\n\\n#Rename file\\n\\nimport os\\n\\nos.rename(\"hi.pdf\",\"hy.pdf\")\\nos.remove(\"hii.mp4\")\\n\\n# os.mkdir(\"gb\")\\n#create folder\\n# os.rmdir(\"gb\")\\n#remove folder\\n\\n# os.mkdir(\"gb\")\\nimport shutil\\n#Copy pasting files\\n\\nshutil.copy(\\'hy.pdf\\',\\'/content/gb\\')\\n\\n#Searching files\\nimport os.path\\n\\nos.path.isfile(\\'/content/gb/hi.pdf\\')', '_33': False, '_i34': '# open()->used for creating files.(use w mode)open(\"file.txt\",\"w\")\\n# a=open(\"file.txt\",\"w\")\\n# a.write(\"Hey there!\")\\n# a.close()\\n# a=open(\"file.txt\",\"r\")\\n\\n# print(a.read())\\n# #close used to save the content\\n\\n# #adding more content\\n\\n# a=open(\"file.txt\",\"a\")\\n# a.write(\"I am appended\")\\n# a.close()\\n\\nb=open(\"hi.pdf\",\"w\")\\nc=open(\"hii.mp4\",\"w\")\\n\\n#a does edits in same file while w does edits by creating new file\\n\\n#Rename file\\n\\nimport os\\n\\nos.rename(\"hi.pdf\",\"hy.pdf\")\\nos.remove(\"hii.mp4\")\\n\\n# os.mkdir(\"gb\")\\n#create folder\\n# os.rmdir(\"gb\")\\n#remove folder\\n\\n# os.mkdir(\"gb\")\\nimport shutil\\n#Copy pasting files\\n\\nshutil.copy(\\'hy.pdf\\',\\'/content/gb\\')\\n\\n#Searching files\\nimport os.path\\n\\nos.path.isfile(\\'/content/gb/hi.pdf\\')\\nos.path.isdir(\\'/content/gb\\')', '_34': True, '_i35': '# open()->used for creating files.(use w mode)open(\"file.txt\",\"w\")\\n# a=open(\"file.txt\",\"w\")\\n# a.write(\"Hey there!\")\\n# a.close()\\n# a=open(\"file.txt\",\"r\")\\n\\n# print(a.read())\\n# #close used to save the content\\n\\n# #adding more content\\n\\n# a=open(\"file.txt\",\"a\")\\n# a.write(\"I am appended\")\\n# a.close()\\n\\nb=open(\"hi.pdf\",\"w\")\\nc=open(\"hii.mp4\",\"w\")\\n\\n#a does edits in same file while w does edits by creating new file\\n\\n#Rename file\\n\\nimport os\\n\\nos.rename(\"hi.pdf\",\"hy.pdf\")\\nos.remove(\"hii.mp4\")\\n\\n# os.mkdir(\"gb\")\\n#create folder\\n# os.rmdir(\"gb\")\\n#remove folder\\n\\n# os.mkdir(\"gb\")\\nimport shutil\\n#Copy pasting files\\n\\nshutil.copy(\\'hy.pdf\\',\\'/content/gb\\')\\n\\n#Searching files\\nimport os.path\\n\\nos.path.isfile(\\'/content/gb/hi.pdf\\')\\nprint(os.path.isdir(\\'/content/gb\\'))', '_i36': '# open()->used for creating files.(use w mode)open(\"file.txt\",\"w\")\\n# a=open(\"file.txt\",\"w\")\\n# a.write(\"Hey there!\")\\n# a.close()\\n# a=open(\"file.txt\",\"r\")\\n\\n# print(a.read())\\n# #close used to save the content\\n\\n# #adding more content\\n\\n# a=open(\"file.txt\",\"a\")\\n# a.write(\"I am appended\")\\n# a.close()\\n\\nb=open(\"hi.pdf\",\"w\")\\nc=open(\"hii.mp4\",\"w\")\\n\\n#a does edits in same file while w does edits by creating new file\\n\\n#Rename file\\n\\nimport os\\n\\nos.rename(\"hi.pdf\",\"hy.pdf\")\\nos.remove(\"hii.mp4\")\\n\\n# os.mkdir(\"gb\")\\n#create folder\\n# os.rmdir(\"gb\")\\n#remove folder\\n\\n# os.mkdir(\"gb\")\\nimport shutil\\n#Copy pasting files\\n\\nshutil.copy(\\'hy.pdf\\',\\'/content/gb\\')\\n\\n#Searching files\\nimport os.path\\n\\n# os.path.isfile(\\'/content/gb/hi.pdf\\')\\nprint(os.path.isdir(\\'/content/gb\\'))', '_i37': '# open()->used for creating files.(use w mode)open(\"file.txt\",\"w\")\\n# a=open(\"file.txt\",\"w\")\\n# a.write(\"Hey there!\")\\n# a.close()\\n# a=open(\"file.txt\",\"r\")\\n\\n# print(a.read())\\n# #close used to save the content\\n\\n# #adding more content\\n\\n# a=open(\"file.txt\",\"a\")\\n# a.write(\"I am appended\")\\n# a.close()\\n\\nb=open(\"hi.pdf\",\"w\")\\nc=open(\"hii.mp4\",\"w\")\\n\\n#a does edits in same file while w does edits by creating new file\\n\\n#Rename file\\n\\nimport os\\n\\nos.rename(\"hi.pdf\",\"hy.pdf\")\\nos.remove(\"hii.mp4\")\\n\\n# os.mkdir(\"gb\")\\n#create folder\\n# os.rmdir(\"gb\")\\n#remove folder\\n\\n# os.mkdir(\"gb\")\\nimport shutil\\n#Copy pasting files\\n\\nshutil.copy(\\'hy.pdf\\',\\'/content/gb\\')\\n\\n#Searching files\\nimport os.path\\n\\n# os.path.isfile(\\'/content/gb/hi.pdf\\')\\nprint(os.path.isdir(\\'/content/gn\\'))', '_i38': '# open()->used for creating files.(use w mode)open(\"file.txt\",\"w\")\\n# a=open(\"file.txt\",\"w\")\\n# a.write(\"Hey there!\")\\n# a.close()\\n# a=open(\"file.txt\",\"r\")\\n\\n# print(a.read())\\n# #close used to save the content\\n\\n# #adding more content\\n\\n# a=open(\"file.txt\",\"a\")\\n# a.write(\"I am appended\")\\n# a.close()\\n\\nb=open(\"hi.pdf\",\"w\")\\nc=open(\"hii.mp4\",\"w\")\\n\\n#a does edits in same file while w does edits by creating new file\\n\\n#Rename file\\n\\nimport os\\n\\nos.rename(\"hi.pdf\",\"hy.pdf\")\\nos.remove(\"hii.mp4\")\\n\\n# os.mkdir(\"gb\")\\n#create folder\\n# os.rmdir(\"gb\")\\n#remove folder\\n\\n# os.mkdir(\"gb\")\\nimport shutil\\n#Copy pasting files\\n\\nshutil.copy(\\'hy.pdf\\',\\'/content/gb\\')\\n\\n#Searching files\\nimport os.path\\n\\n# os.path.isfile(\\'/content/gb/hi.pdf\\')\\nprint(os.path.isdir(\\'/content/gb\\'))\\n\\n#.exists works for both file and folder', '_i39': '# open()->used for creating files.(use w mode)open(\"file.txt\",\"w\")\\n# a=open(\"file.txt\",\"w\")\\n# a.write(\"Hey there!\")\\n# a.close()\\n# a=open(\"file.txt\",\"r\")\\n\\n# print(a.read())\\n# #close used to save the content\\n\\n# #adding more content\\n\\n# a=open(\"file.txt\",\"a\")\\n# a.write(\"I am appended\")\\n# a.close()\\n\\nb=open(\"hi.pdf\",\"w\")\\nc=open(\"hii.mp4\",\"w\")\\n\\n#a does edits in same file while w does edits by creating new file\\n\\n#Rename file\\n\\nimport os\\n\\nos.rename(\"hi.pdf\",\"hy.pdf\")\\nos.remove(\"hii.mp4\")\\n\\n# os.mkdir(\"gb\")\\n#create folder\\n# os.rmdir(\"gb\")\\n#remove folder\\n\\n# os.mkdir(\"gb\")\\nimport shutil\\n#Copy pasting files\\n\\nshutil.copy(\\'hy.pdf\\',\\'/content/gb\\')\\n\\n#Searching files\\nimport os.path\\n\\n# os.path.isfile(\\'/content/gb/hi.pdf\\')\\nprint(os.path.isdir(\\'/content/gb\\'))\\n\\n#.exists works for both file and folder\\n\\n#Convering file to zip file\\nimport zipfile\\n\\nx=zipfile.ZipFile(\"myZipFile.zip\",\"w\")\\nx.write(\"hy.pdf\")\\nx.close()', 'zipfile': <module 'zipfile' from '/usr/lib/python3.10/zipfile.py'>, 'x': <zipfile.ZipFile [closed]>, '_i40': '# open()->used for creating files.(use w mode)open(\"file.txt\",\"w\")\\n# a=open(\"file.txt\",\"w\")\\n# a.write(\"Hey there!\")\\n# a.close()\\n# a=open(\"file.txt\",\"r\")\\n\\n# print(a.read())\\n# #close used to save the content\\n\\n# #adding more content\\n\\n# a=open(\"file.txt\",\"a\")\\n# a.write(\"I am appended\")\\n# a.close()\\n\\nb=open(\"hi.pdf\",\"w\")\\nc=open(\"hii.mp4\",\"w\")\\n\\n#a does edits in same file while w does edits by creating new file\\n\\n#Rename file\\n\\nimport os\\n\\nos.rename(\"hi.pdf\",\"hy.pdf\")\\nos.remove(\"hii.mp4\")\\n\\n# os.mkdir(\"gb\")\\n#create folder\\n# os.rmdir(\"gb\")\\n#remove folder\\n\\n# os.mkdir(\"gb\")\\nimport shutil\\n#Copy pasting files\\n\\nshutil.copy(\\'hy.pdf\\',\\'/content/gb\\')\\n\\n#Searching files\\nimport os.path\\n\\n# os.path.isfile(\\'/content/gb/hi.pdf\\')\\nprint(os.path.isdir(\\'/content/gb\\'))\\n\\n#.exists works for both file and folder\\n\\n#Convering file to zip file\\nimport zipfile\\n\\nx=zipfile.ZipFile(\"myZipFile.zip\",\"w\")\\nx.write(\"hy.pdf\")\\nx.close()\\n\\n#Extracting files\\n\\na=zipfile.ZipFile(\"myZipFile.zip\")\\na.extractall()', '_i41': '# open()->used for creating files.(use w mode)open(\"file.txt\",\"w\")\\n# a=open(\"file.txt\",\"w\")\\n# a.write(\"Hey there!\")\\n# a.close()\\n# a=open(\"file.txt\",\"r\")\\n\\n# print(a.read())\\n# #close used to save the content\\n\\n# #adding more content\\n\\n# a=open(\"file.txt\",\"a\")\\n# a.write(\"I am appended\")\\n# a.close()\\n\\nb=open(\"hi.pdf\",\"w\")\\nc=open(\"hii.mp4\",\"w\")\\n\\n#a does edits in same file while w does edits by creating new file\\n\\n#Rename file\\n\\nimport os\\n\\nos.rename(\"hi.pdf\",\"hy.pdf\")\\nos.remove(\"hii.mp4\")\\n\\n# os.mkdir(\"gb\")\\n#create folder\\n# os.rmdir(\"gb\")\\n#remove folder\\n\\n# os.mkdir(\"gb\")\\nimport shutil\\n#Copy pasting files\\n\\nshutil.copy(\\'hy.pdf\\',\\'/content/gb\\')\\n\\n#Searching files\\nimport os.path\\n\\n# os.path.isfile(\\'/content/gb/hi.pdf\\')\\nprint(os.path.isdir(\\'/content/gb\\'))\\n\\n#.exists works for both file and folder\\n\\n#Convering file to zip file\\nimport zipfile\\n\\n# x=zipfile.ZipFile(\"myZipFile.zip\",\"w\")\\n# x.write(\"hy.pdf\")\\n# x.close()\\n\\n#Extracting files\\n\\na=zipfile.ZipFile(\"myZipFile.zip\")\\na.extractall(\\'/content/gb\\')', '_i42': '# open()->used for creating files.(use w mode)open(\"file.txt\",\"w\")\\n# a=open(\"file.txt\",\"w\")\\n# a.write(\"Hey there!\")\\n# a.close()\\n# a=open(\"file.txt\",\"r\")\\n\\n# print(a.read())\\n# #close used to save the content\\n\\n# #adding more content\\n\\n# a=open(\"file.txt\",\"a\")\\n# a.write(\"I am appended\")\\n# a.close()\\n\\nb=open(\"hi.pdf\",\"w\")\\nc=open(\"hii.mp4\",\"w\")\\n\\n#a does edits in same file while w does edits by creating new file\\n\\n#Rename file\\n\\nimport os\\n\\nos.rename(\"hi.pdf\",\"hy.pdf\")\\nos.remove(\"hii.mp4\")\\n\\n# os.mkdir(\"gb\")\\n#create folder\\n# os.rmdir(\"gb\")\\n#remove folder\\n\\n# os.mkdir(\"gb\")\\nimport shutil\\n#Copy pasting files\\n\\nshutil.copy(\\'hy.pdf\\',\\'/content/gb\\')\\n\\n#Searching files\\nimport os.path\\n\\n# os.path.isfile(\\'/content/gb/hi.pdf\\')\\nprint(os.path.isdir(\\'/content/gb\\'))\\n\\n#.exists works for both file and folder\\n\\n#Convering file to zip file\\nimport zipfile\\n\\n# x=zipfile.ZipFile(\"myZipFile.zip\",\"w\")\\n# x.write(\"hy.pdf\")\\n# x.close()\\n\\n#Extracting files\\n\\na=zipfile.ZipFile(\"myZipFile.zip\")\\na.extractall(\\'/content/gb\\')', '_i43': '# open()->used for creating files.(use w mode)open(\"file.txt\",\"w\")\\n# a=open(\"file.txt\",\"w\")\\n# a.write(\"Hey there!\")\\n# a.close()\\n# a=open(\"file.txt\",\"r\")\\n\\n# print(a.read())\\n# #close used to save the content\\n\\n# #adding more content\\n\\n# a=open(\"file.txt\",\"a\")\\n# a.write(\"I am appended\")\\n# a.close()\\n\\nb=open(\"hi.pdf\",\"w\")\\nc=open(\"hii.mp4\",\"w\")\\n\\n#a does edits in same file while w does edits by creating new file\\n\\n#Rename file\\n\\nimport os\\n\\nos.rename(\"hi.pdf\",\"hy.pdf\")\\nos.remove(\"hii.mp4\")\\n\\n# os.mkdir(\"gb\")\\n#create folder\\n# os.rmdir(\"gb\")\\n#remove folder\\n\\n# os.mkdir(\"gb\")\\nimport shutil\\n#Copy pasting files\\n\\nshutil.copy(\\'hy.pdf\\',\\'/content/gb\\')\\n\\n#Searching files\\nimport os.path\\n\\n# os.path.isfile(\\'/content/gb/hi.pdf\\')\\nprint(os.path.isdir(\\'/content/gb\\'))\\n\\n#.exists works for both file and folder\\n\\n#Convering file to zip file\\nimport zipfile\\n\\n# x=zipfile.ZipFile(\"myZipFile.zip\",\"w\")\\n# x.write(\"hy.pdf\")\\n# x.close()\\n\\n#Extracting files\\n\\na=zipfile.ZipFile(\"myZipFile.zip\")\\na.extractall()', '_i44': 'def me():\\n  print(\"Shreya\")\\nme()  ', 'me': <function me at 0x7e24b3bbeb00>, '_i45': 'def me():\\n  print(\"Shreya\")\\nme() \\n\\ndef none():\\n  return \\'Gullu\\'\\n  \\nprint(print(print(none())))', 'none': <function none at 0x7e24b3bbd6c0>, '_i46': '#Types: Inbuilt..Use_defined\\n# User_defined:default(non-parameterised),parameterised,anonymous\\n# def xyz()==>default\\n# def xyz(a,b,c)==>para\\n#anonymous\\n\\ndef add(a,b):\\n  print(a+b)\\nadd(1,4)  ', 'add': <function add at 0x7e24b3bbd7e0>, '_i47': '#Types: Inbuilt..Use_defined\\n# User_defined:default(non-parameterised),parameterised,anonymous\\n# def xyz()==>default\\n# def xyz(a,b,c)==>para\\n#anonymous\\n\\ndef add(a,b):\\n  #formal argument above\\n  print(a+b)\\nadd(1,4)  \\n#actual argument above\\n\\n#anonymous fn--fn without name(nameless fn)\\n#we use lambda expression for this\\n\\nt=lambda c,d:c+d\\nprint(t(5,6))', 't': <function <lambda> at 0x7e24b3bbee60>, '_i48': '#Types: Inbuilt..Use_defined\\n# User_defined:default(non-parameterised),parameterised,anonymous\\n# def xyz()==>default\\n# def xyz(a,b,c)==>para\\n#anonymous\\n\\ndef add(a,b):\\n  #formal argument above\\n  print(a+b)\\nadd(1,4)  \\n#actual argument above\\n\\n#anonymous fn--fn without name(nameless fn)\\n#we use lambda expression for this\\n\\nt=lambda c,d:c+d\\nprint(t(5,6))\\n\\ns=lambda a,b,c=a*b*c\\nprint(s(6,7,8))', '_i49': '#Types: Inbuilt..Use_defined\\n# User_defined:default(non-parameterised),parameterised,anonymous\\n# def xyz()==>default\\n# def xyz(a,b,c)==>para\\n#anonymous\\n\\ndef add(a,b):\\n  #formal argument above\\n  print(a+b)\\nadd(1,4)  \\n#actual argument above\\n\\n#anonymous fn--fn without name(nameless fn)\\n#we use lambda expression for this\\n\\nt=lambda c,d:c+d\\nprint(t(5,6))\\n\\ns=lambda a,b,c:a*b*c\\nprint(s(6,7,8))', 's': <function <lambda> at 0x7e24b3bbf010>, '_i50': '#Types: Inbuilt..Use_defined\\n# User_defined:default(non-parameterised),parameterised,anonymous\\n# def xyz()==>default\\n# def xyz(a,b,c)==>para\\n#anonymous\\n\\ndef add(a,b):\\n  #formal argument above\\n  print(a+b)\\nadd(1,4)  \\n#actual argument above\\n\\n#anonymous fn--fn without name(nameless fn)\\n#we use lambda expression for this\\n\\nt=lambda c,d:c+d\\nprint(t(5,6))\\n\\ns=lambda a,b,c:a*b*c\\nprint(s(6,7,8))\\n\\n#Scope of fn[global and local(preferred)]\\n#global keyword to convert local to global\\n# globals returns dictionary of global varialbles\\nprint(globals())'}\n"
          ]
        }
      ]
    },
    {
      "cell_type": "markdown",
      "source": [
        "Packages and Modules in Python"
      ],
      "metadata": {
        "id": "59RB7M1mzPrX"
      }
    },
    {
      "cell_type": "code",
      "source": [
        "# Library: has lots of packages\n",
        "# package:collection of modules\n",
        "# module:collection of functions, just a .py file\n",
        "#function:block of code to perform a particular task.\n",
        "\n",
        "#Creating our own package\n",
        "# from pkg import m1\n",
        "# m1.add()\n",
        "\n",
        "from pkg import file1\n",
        "file1.add(1,4)\n"
      ],
      "metadata": {
        "colab": {
          "base_uri": "https://localhost:8080/"
        },
        "id": "yICB5AsQ5qH1",
        "outputId": "7ce2c7b1-b779-4437-8972-022d97bfe39c"
      },
      "execution_count": null,
      "outputs": [
        {
          "output_type": "execute_result",
          "data": {
            "text/plain": [
              "5"
            ]
          },
          "metadata": {},
          "execution_count": 4
        }
      ]
    },
    {
      "cell_type": "markdown",
      "source": [
        "Exception Handling in Python"
      ],
      "metadata": {
        "id": "zNlR6HMwEtpf"
      }
    },
    {
      "cell_type": "code",
      "source": [
        "#Syntax error(compile time error), logical error, run time error\n",
        "#try except finally raise--used for exception handling\n",
        "\n",
        "a=int(input(\"Enter 1\"))\n",
        "b=int(input(\"Enter\"))\n",
        "x=[1,3,5,5,3]\n",
        "\n",
        "try:\n",
        "   print(a/b)\n",
        "   eid=int(input(\"Add id of emp\"))\n",
        "\n",
        "   print(eid)\n",
        "\n",
        "   print(x[12])\n",
        "\n",
        "except ZeroDivisionError:\n",
        "  print(\"Not divisible by 0\")\n",
        "except IndexError:\n",
        "  print(\"Index out of range\")\n",
        "except ValueError:\n",
        "  print(\"Add integer value\")\n",
        "except Exception:\n",
        "  #universal handler\n",
        "  print(\"Exception\")\n",
        "# print(\"Yes\")\n",
        "finally:\n",
        "  print(\"Done\")\n",
        "#One problem is solved in single time\n",
        "#Customised exceptions\n",
        "x=15\n",
        "if x>40:\n",
        "  print(\"Yes\")\n",
        "else:\n",
        "  raise ValueError(\"Wrong syntax\")\n",
        "\n"
      ],
      "metadata": {
        "colab": {
          "base_uri": "https://localhost:8080/",
          "height": 315
        },
        "id": "mIs1C97cExLp",
        "outputId": "cda62e1c-7b5e-487e-b050-e7f676177eef"
      },
      "execution_count": null,
      "outputs": [
        {
          "output_type": "stream",
          "name": "stdout",
          "text": [
            "Enter 12\n",
            "Enter2\n",
            "1.0\n",
            "Add id of emp2\n",
            "2\n",
            "Index out of range\n",
            "Done\n"
          ]
        },
        {
          "output_type": "error",
          "ename": "ValueError",
          "evalue": "Wrong syntax",
          "traceback": [
            "\u001b[0;31m---------------------------------------------------------------------------\u001b[0m",
            "\u001b[0;31mValueError\u001b[0m                                Traceback (most recent call last)",
            "\u001b[0;32m<ipython-input-2-5dbbfa0df08c>\u001b[0m in \u001b[0;36m<cell line: 31>\u001b[0;34m()\u001b[0m\n\u001b[1;32m     32\u001b[0m   \u001b[0mprint\u001b[0m\u001b[0;34m(\u001b[0m\u001b[0;34m\"Yes\"\u001b[0m\u001b[0;34m)\u001b[0m\u001b[0;34m\u001b[0m\u001b[0;34m\u001b[0m\u001b[0m\n\u001b[1;32m     33\u001b[0m \u001b[0;32melse\u001b[0m\u001b[0;34m:\u001b[0m\u001b[0;34m\u001b[0m\u001b[0;34m\u001b[0m\u001b[0m\n\u001b[0;32m---> 34\u001b[0;31m   \u001b[0;32mraise\u001b[0m \u001b[0mValueError\u001b[0m\u001b[0;34m(\u001b[0m\u001b[0;34m\"Wrong syntax\"\u001b[0m\u001b[0;34m)\u001b[0m\u001b[0;34m\u001b[0m\u001b[0;34m\u001b[0m\u001b[0m\n\u001b[0m\u001b[1;32m     35\u001b[0m \u001b[0;34m\u001b[0m\u001b[0m\n",
            "\u001b[0;31mValueError\u001b[0m: Wrong syntax"
          ]
        }
      ]
    },
    {
      "cell_type": "markdown",
      "source": [
        "OOPS OBJECT ORIENTED PROGRAMMING SYSTEM\n"
      ],
      "metadata": {
        "id": "NHppNMZZPc0i"
      }
    },
    {
      "cell_type": "code",
      "source": [
        "#way of programming realted to real world concepts\n",
        "#object--real world entity/instance of class\n",
        "#class---blueprint of object\n",
        "#abstraction--hide complexity, show essentials\n",
        "#encapsulation--wrapping of data and method into a single unit\n",
        "#polymorphism--same name many forms\n",
        "#inheritance--used for reusability\n"
      ],
      "metadata": {
        "id": "mvSxnsFiPimo"
      },
      "execution_count": null,
      "outputs": []
    },
    {
      "cell_type": "code",
      "source": [
        "class Abc:\n",
        "  name=\"abc\"\n",
        "  age=20\n",
        "\n",
        "  def f1(self):\n",
        "    print(\"I am a method in class\")\n",
        "\n",
        "#Constructor: default, parameterised\n",
        "a1=Abc()\n",
        "print(a1.name)\n",
        "print(type(a1))\n",
        "print(Abc.age)\n",
        "print(Abc.mro)\n",
        "print(a1.f1())\n",
        "# print(Abc.f1(x))\n",
        "\n",
        "#self is used to point current object\n"
      ],
      "metadata": {
        "colab": {
          "base_uri": "https://localhost:8080/"
        },
        "id": "BTpCaMyzTlZG",
        "outputId": "2795b2c3-1b05-4436-c776-f6d35287001c"
      },
      "execution_count": null,
      "outputs": [
        {
          "output_type": "stream",
          "name": "stdout",
          "text": [
            "abc\n",
            "<class '__main__.Abc'>\n",
            "20\n",
            "<built-in method mro of type object at 0x5bad3081ee80>\n",
            "I am a method in class\n",
            "None\n"
          ]
        }
      ]
    },
    {
      "cell_type": "code",
      "source": [
        "#Constructors\n",
        "\n",
        "class Company:\n",
        "  name=\"GB\"\n",
        "  country=\"India\"\n",
        "\n",
        "  def __init__(self):\n",
        "    print(\"Init fnzz\")\n",
        "\n",
        "  def __init__(self,empName,empId):\n",
        "    self.empname=empName\n",
        "    self.empid=empId\n",
        "    print(\"Init fnzzzzzzz\")\n",
        "\n",
        "\n",
        "  def info(self):\n",
        "    print(\"I am company\")\n",
        "    print(emp2.empname)\n",
        "    print(emp2.empid)\n",
        "\n",
        "# emp1=Company()\n",
        "emp2=Company(\"Shreya\",14)\n",
        "\n",
        "# emp1.info()\n",
        "emp2.info()\n"
      ],
      "metadata": {
        "colab": {
          "base_uri": "https://localhost:8080/"
        },
        "id": "1p_Pg7r8klP7",
        "outputId": "cfb9611e-00e1-4632-b87d-3cb125a53cc7"
      },
      "execution_count": null,
      "outputs": [
        {
          "output_type": "stream",
          "name": "stdout",
          "text": [
            "Init fnzzzzzzz\n",
            "I am company\n",
            "Shreya\n",
            "14\n"
          ]
        }
      ]
    },
    {
      "cell_type": "code",
      "source": [
        "#Types of methods inside a class----Instance(use instance variable), Class(use class variable),Static(use instance or class)\n",
        "\n",
        "class College:\n",
        "  name=\"BIT\"\n",
        "  country=\"India\"\n",
        "\n",
        "  def __init__(self,sname,br):\n",
        "    self.sname=sname\n",
        "    self.branch=br\n",
        "    print(sname,br)\n",
        "\n",
        "    #instance method\n",
        "\n",
        "  @classmethod\n",
        "  def info(x):\n",
        "    print(x.name,x.country)\n",
        "\n",
        "    #class method\n",
        "\n",
        "\n",
        "  @staticmethod\n",
        "  def  add(a,b):\n",
        "    print(a+b)\n",
        "\n",
        "s1=College(\"sb\",\"cs\")\n",
        "s2=College(\"gb\",\"cs\")\n",
        "\n",
        "College.info()\n",
        "College.add(4,6)\n",
        "s1.add(7,8)"
      ],
      "metadata": {
        "colab": {
          "base_uri": "https://localhost:8080/"
        },
        "id": "Q_uq-YCHqymf",
        "outputId": "10f236ee-4fc4-4a6e-9037-973a3fa24a07"
      },
      "execution_count": null,
      "outputs": [
        {
          "output_type": "stream",
          "name": "stdout",
          "text": [
            "sb cs\n",
            "gb cs\n",
            "BIT India\n",
            "10\n",
            "15\n"
          ]
        }
      ]
    },
    {
      "cell_type": "code",
      "source": [
        "#Encapsulation & Abstraction\n",
        "\n",
        "#Abstraction\n",
        "\n",
        "a=4\n",
        "b=5\n",
        "\n",
        "print(a+b)\n",
        "print(int.__add__(a,b))\n",
        "print(a-b)\n",
        "print(int.__sub__(a,b))\n",
        "\n",
        "class College:\n",
        "  name=\"aaaa\"\n",
        "  country=\"India\"\n",
        "\n",
        "  def __init__(self,m1,m2):\n",
        "    self.m1=m1\n",
        "    self.m2=m2\n",
        "\n",
        "  def __add__(self,x):\n",
        "    m1=self.m1+self.m2\n",
        "    m2=x.m1+x.m2\n",
        "    return m1+m2\n",
        "\n",
        "  def __sub__(self,x):\n",
        "    m1=self.m1-self.m2\n",
        "    m2=x.m1-x.m2\n",
        "    return m1+m2\n",
        "\n",
        "\n",
        "\n",
        "s1=College(16,24)\n",
        "s2=College(19,28)\n",
        "\n",
        "print(s1+s2)\n",
        "print(s1-s2)"
      ],
      "metadata": {
        "colab": {
          "base_uri": "https://localhost:8080/"
        },
        "id": "dremJ21B3LSP",
        "outputId": "1f58f12e-f075-4c1b-ae5d-dfa0ff4b41e8"
      },
      "execution_count": null,
      "outputs": [
        {
          "output_type": "stream",
          "name": "stdout",
          "text": [
            "9\n",
            "9\n",
            "-1\n",
            "-1\n",
            "87\n",
            "-17\n"
          ]
        }
      ]
    },
    {
      "cell_type": "code",
      "source": [
        "#Polymorphism\n",
        "#Overloading and overriding\n",
        "\n",
        "#Method overloading\n",
        "#in python it takes last parameter hence no method overloading but operator overloading is done such that +is used for summing also and concatenation also.\n",
        "\n",
        "#INHERITANCE\n",
        "\n",
        "#Single level inheritance\n",
        "\n",
        "class A:\n",
        "  def f1(self):\n",
        "    print(\"f1 from A\")\n",
        "\n",
        "  def f2(self):\n",
        "    print(\"f2 from A\")\n",
        "\n",
        "class B(A):\n",
        "  def f3(self):\n",
        "    print(\"f3 from B\")\n",
        "\n",
        "a=A()\n",
        "b=B()\n",
        "\n",
        "a.f1()\n",
        "a.f2()\n",
        "b.f3()\n",
        "b.f1()\n",
        "b.f2()\n"
      ],
      "metadata": {
        "colab": {
          "base_uri": "https://localhost:8080/"
        },
        "id": "wOOaIBzN7eN0",
        "outputId": "285bede7-e1d5-46de-b4b8-6ed1fb939a7e"
      },
      "execution_count": null,
      "outputs": [
        {
          "output_type": "stream",
          "name": "stdout",
          "text": [
            "f1 from A\n",
            "f2 from A\n",
            "f3 from B\n",
            "f1 from A\n",
            "f2 from A\n"
          ]
        }
      ]
    },
    {
      "cell_type": "code",
      "source": [
        "#Multilevel Inheritance\n",
        "\n",
        "class A:\n",
        "  def f1(self):\n",
        "    print(\"f1 from A\")\n",
        "\n",
        "  def f2(self):\n",
        "    print(\"f2 from A\")\n",
        "\n",
        "class B(A):\n",
        "  def f3(self):\n",
        "    print(\"f3 from B\")\n",
        "\n",
        "class C(B):\n",
        "  def f4(self):\n",
        "    print(\"f4 from C\")\n",
        "\n",
        "a=A()\n",
        "b=B()\n",
        "c=C()\n",
        "\n",
        "a.f1()\n",
        "a.f2()\n",
        "b.f3()\n",
        "b.f1()\n",
        "b.f2()\n",
        "c.f4()\n",
        "c.f3()\n",
        "c.f2()\n",
        "c.f1()\n"
      ],
      "metadata": {
        "colab": {
          "base_uri": "https://localhost:8080/"
        },
        "id": "IHlsvn4ANOrS",
        "outputId": "e83fa3f0-3a4e-433f-bf23-85155b6622a6"
      },
      "execution_count": null,
      "outputs": [
        {
          "output_type": "stream",
          "name": "stdout",
          "text": [
            "f1 from A\n",
            "f2 from A\n",
            "f3 from B\n",
            "f1 from A\n",
            "f2 from A\n",
            "f4 from C\n",
            "f3 from B\n",
            "f2 from A\n",
            "f1 from A\n"
          ]
        }
      ]
    },
    {
      "cell_type": "code",
      "source": [
        "# Hierarchilal Inheritance\n",
        "\n",
        "class A:\n",
        "  def f1(self):\n",
        "    print(\"f1 from A\")\n",
        "\n",
        "  def f2(self):\n",
        "    print(\"f2 from A\")\n",
        "\n",
        "class B(A):\n",
        "  def f3(self):\n",
        "    print(\"f3 from B\")\n",
        "\n",
        "class C(A):\n",
        "  def f4(self):\n",
        "    print(\"f4 from c\")\n",
        "\n",
        "a=A()\n",
        "b=B()\n",
        "c=C()\n",
        "\n",
        "a.f1()\n",
        "a.f2()\n",
        "b.f3()\n",
        "b.f1()\n",
        "b.f2()\n",
        "c.f4()\n",
        "c.f1()\n",
        "c.f2()"
      ],
      "metadata": {
        "colab": {
          "base_uri": "https://localhost:8080/"
        },
        "id": "pbBzFNU9N-lq",
        "outputId": "166c5838-f887-43d2-b736-51e30d0ced01"
      },
      "execution_count": null,
      "outputs": [
        {
          "output_type": "stream",
          "name": "stdout",
          "text": [
            "f1 from A\n",
            "f2 from A\n",
            "f3 from B\n",
            "f1 from A\n",
            "f2 from A\n",
            "f4 from c\n",
            "f1 from A\n",
            "f2 from A\n"
          ]
        }
      ]
    },
    {
      "cell_type": "code",
      "source": [
        "#Multiple inheritance\n",
        "\n",
        "class A:\n",
        "  def f1(self):\n",
        "    print(\"f1 from A\")\n",
        "\n",
        "  def f2(self):\n",
        "    print(\"f2 from A\")\n",
        "\n",
        "class B:\n",
        "  def f3(self):\n",
        "    print(\"f3 from B\")\n",
        "\n",
        "class C(A,B):\n",
        "  def f4(self):\n",
        "    print(\"f4 from c\")\n",
        "\n",
        "a=A()\n",
        "b=B()\n",
        "c=C()\n",
        "\n",
        "a.f1()\n",
        "a.f2()\n",
        "b.f3()\n",
        "c.f4()\n",
        "c.f1()\n",
        "c.f2()\n",
        "c.f3()"
      ],
      "metadata": {
        "colab": {
          "base_uri": "https://localhost:8080/"
        },
        "id": "aLpXWAw2Opkc",
        "outputId": "7c642804-da51-460e-86df-145dd2fe3e02"
      },
      "execution_count": null,
      "outputs": [
        {
          "output_type": "stream",
          "name": "stdout",
          "text": [
            "f1 from A\n",
            "f2 from A\n",
            "f3 from B\n",
            "f4 from c\n",
            "f1 from A\n",
            "f2 from A\n",
            "f3 from B\n"
          ]
        }
      ]
    },
    {
      "cell_type": "code",
      "source": [
        "#Hybrid Inheritance(atleast 5 classes)\n",
        "#Multiple and Hierarchical inheritance sum up\n",
        "\n",
        "class A:\n",
        "  def f1(self):\n",
        "    print(\"f1 from A\")\n",
        "\n",
        "  def f2(self):\n",
        "    print(\"f2 from A\")\n",
        "\n",
        "class B:\n",
        "  def f3(self):\n",
        "    print(\"f3 from B\")\n",
        "\n",
        "class C(A,B):\n",
        "  def f4(self):\n",
        "    print(\"f4 from c\")\n",
        "\n",
        "class D(C):\n",
        "  def f5(self):\n",
        "    print(\"f5 from D\")\n",
        "\n",
        "class E(C):\n",
        "  def f6(self):\n",
        "    print(\"f6 from E\")\n",
        "\n",
        "a=A()\n",
        "b=B()\n",
        "c=C()\n",
        "d=D()\n",
        "e=E()\n",
        "\n",
        "c.f4()\n",
        "c.f1()\n",
        "c.f2()\n",
        "c.f3()\n",
        "d.f1()\n",
        "d.f2()\n",
        "d.f3()\n",
        "d.f4()\n",
        "d.f5()\n",
        "e.f1()\n",
        "e.f2()\n",
        "e.f3()\n",
        "e.f4()\n",
        "e.f6()"
      ],
      "metadata": {
        "colab": {
          "base_uri": "https://localhost:8080/"
        },
        "id": "PPoWgECjPaF1",
        "outputId": "f1e6aa0a-ff91-490f-8801-79b7a774d2ac"
      },
      "execution_count": null,
      "outputs": [
        {
          "output_type": "stream",
          "name": "stdout",
          "text": [
            "f4 from c\n",
            "f1 from A\n",
            "f2 from A\n",
            "f3 from B\n",
            "f1 from A\n",
            "f2 from A\n",
            "f3 from B\n",
            "f4 from c\n",
            "f5 from D\n",
            "f1 from A\n",
            "f2 from A\n",
            "f3 from B\n",
            "f4 from c\n",
            "f6 from E\n"
          ]
        }
      ]
    },
    {
      "cell_type": "code",
      "source": [
        "#Method overriding\n",
        "#same name function in different classes\n",
        "\n",
        "class A:\n",
        "  def f1(self):\n",
        "    print(\"f1 from A\")\n",
        "\n",
        "class B(A):\n",
        "  def f1(self):\n",
        "    print(\"f1 from B haha\")\n",
        "    super().f1()\n",
        "    #super takes parent property too\n",
        "\n",
        "a=A()\n",
        "b=B()\n",
        "\n",
        "a.f1()\n",
        "b.f1()\n"
      ],
      "metadata": {
        "colab": {
          "base_uri": "https://localhost:8080/"
        },
        "id": "Rh9XP5TMQnaA",
        "outputId": "7e21aec1-a3c1-48db-a08c-74d5b6b287ae"
      },
      "execution_count": null,
      "outputs": [
        {
          "output_type": "stream",
          "name": "stdout",
          "text": [
            "f1 from A\n",
            "f1 from B haha\n",
            "f1 from A\n"
          ]
        }
      ]
    }
  ]
}